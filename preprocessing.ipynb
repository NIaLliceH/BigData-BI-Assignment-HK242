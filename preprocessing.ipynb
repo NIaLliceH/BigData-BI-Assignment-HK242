{
 "cells": [
  {
   "cell_type": "code",
   "execution_count": 1,
   "metadata": {},
   "outputs": [
    {
     "name": "stdout",
     "output_type": "stream",
     "text": [
      "Requirement already satisfied: pandas in /opt/conda/lib/python3.11/site-packages (2.0.3)\n",
      "Requirement already satisfied: numpy in /opt/conda/lib/python3.11/site-packages (1.24.4)\n",
      "Requirement already satisfied: scikit-learn in /opt/conda/lib/python3.11/site-packages (1.3.1)\n",
      "Requirement already satisfied: python-dateutil>=2.8.2 in /opt/conda/lib/python3.11/site-packages (from pandas) (2.8.2)\n",
      "Requirement already satisfied: pytz>=2020.1 in /opt/conda/lib/python3.11/site-packages (from pandas) (2023.3.post1)\n",
      "Requirement already satisfied: tzdata>=2022.1 in /opt/conda/lib/python3.11/site-packages (from pandas) (2023.3)\n",
      "Requirement already satisfied: scipy>=1.5.0 in /opt/conda/lib/python3.11/site-packages (from scikit-learn) (1.11.3)\n",
      "Requirement already satisfied: joblib>=1.1.1 in /opt/conda/lib/python3.11/site-packages (from scikit-learn) (1.3.2)\n",
      "Requirement already satisfied: threadpoolctl>=2.0.0 in /opt/conda/lib/python3.11/site-packages (from scikit-learn) (3.2.0)\n",
      "Requirement already satisfied: six>=1.5 in /opt/conda/lib/python3.11/site-packages (from python-dateutil>=2.8.2->pandas) (1.16.0)\n",
      "Note: you may need to restart the kernel to use updated packages.\n"
     ]
    }
   ],
   "source": [
    "\n",
    "%pip install pandas numpy scikit-learn"
   ]
  },
  {
   "cell_type": "markdown",
   "metadata": {},
   "source": [
    "# Load libraries and datasets"
   ]
  },
  {
   "cell_type": "code",
   "execution_count": 1,
   "metadata": {},
   "outputs": [],
   "source": [
    "import pandas as pd\n",
    "import numpy as np"
   ]
  },
  {
   "cell_type": "code",
   "execution_count": 7,
   "metadata": {},
   "outputs": [],
   "source": [
    "# players = pd.read_csv('./raw_datasets/players.csv')\n",
    "# purchased_games = pd.read_csv(\"./raw_datasets/purchased_games.csv\")\n",
    "# games = pd.read_csv(\"./raw_datasets/games.csv\")\n",
    "# history = pd.read_csv(\"./raw_datasets/history.csv\")\n",
    "prices = pd.read_csv(\"./raw_datasets/prices.csv\")"
   ]
  },
  {
   "cell_type": "code",
   "execution_count": 8,
   "metadata": {},
   "outputs": [
    {
     "name": "stdout",
     "output_type": "stream",
     "text": [
      "gameid                 0\n",
      "usd               907148\n",
      "eur              1703086\n",
      "gbp               908184\n",
      "jpy               919973\n",
      "rub              1006291\n",
      "date_acquired          0\n",
      "dtype: int64\n"
     ]
    }
   ],
   "source": [
    "# print(players.isnull().sum())\n",
    "# print(games.isnull().sum())\n",
    "# print(purchased_games.isnull().sum())\n",
    "# print(history.isnull().sum())\n",
    "print(prices.isnull().sum())"
   ]
  },
  {
   "cell_type": "markdown",
   "metadata": {},
   "source": [
    "# Clean data"
   ]
  },
  {
   "cell_type": "markdown",
   "metadata": {},
   "source": [
    "## Remove duplicates"
   ]
  },
  {
   "cell_type": "code",
   "execution_count": null,
   "metadata": {},
   "outputs": [],
   "source": [
    "# players = players.drop_duplicates()\n",
    "# purchased_games = purchased_games.drop_duplicates()\n",
    "# games = games.drop_duplicates()\n",
    "# history = history.drop_duplicates()\n",
    "# prices = prices.drop_duplicates()"
   ]
  },
  {
   "cell_type": "markdown",
   "metadata": {},
   "source": [
    "## Standardize date format"
   ]
  },
  {
   "cell_type": "code",
   "execution_count": null,
   "metadata": {},
   "outputs": [],
   "source": [
    "# players['created'] = pd.to_datetime(players['created'])\n",
    "# games['release_date'] = pd.to_datetime(games['release_date'])\n",
    "# history['date_acquired'] = pd.to_datetime(history['date_acquired'])\n",
    "# prices['date_acquired'] = pd.to_datetime(prices['date_acquired'])"
   ]
  },
  {
   "cell_type": "markdown",
   "metadata": {},
   "source": [
    "# Handle missing data"
   ]
  },
  {
   "cell_type": "markdown",
   "metadata": {},
   "source": [
    "## players.csv"
   ]
  },
  {
   "cell_type": "code",
   "execution_count": 7,
   "metadata": {},
   "outputs": [
    {
     "name": "stdout",
     "output_type": "stream",
     "text": [
      "playerid    0\n",
      "country     0\n",
      "created     0\n",
      "dtype: int64\n"
     ]
    }
   ],
   "source": [
    "players.fillna({'country': 'Unknown'}, inplace=True)\n",
    "\n",
    "players.fillna({'created': players['created'].median()}, inplace=True)\n",
    "\n",
    "print(players.isnull().sum())"
   ]
  },
  {
   "cell_type": "markdown",
   "metadata": {},
   "source": [
    "## games.csv"
   ]
  },
  {
   "cell_type": "code",
   "execution_count": null,
   "metadata": {},
   "outputs": [
    {
     "name": "stdout",
     "output_type": "stream",
     "text": [
      "gameid                 0\n",
      "title                  0\n",
      "developers             0\n",
      "publishers             0\n",
      "genres                 0\n",
      "supported_languages    0\n",
      "release_date           0\n",
      "dtype: int64\n"
     ]
    }
   ],
   "source": [
    "games.dropna(subset=['title'], inplace=True)\n",
    "games.dropna(subset=['developers'], inplace=True)\n",
    "games.dropna(subset=['publishers'], inplace=True)\n",
    "games.dropna(subset=['genres'], inplace=True)\n",
    "games.dropna(subset=['supported_languages'], inplace=True)\n",
    "\n",
    "print(games.isnull().sum())"
   ]
  },
  {
   "cell_type": "code",
   "execution_count": 15,
   "metadata": {},
   "outputs": [],
   "source": [
    "games.to_csv('./clean_datasets/games.csv', index=False)"
   ]
  },
  {
   "cell_type": "markdown",
   "metadata": {},
   "source": [
    "## purchased_games.csv"
   ]
  },
  {
   "cell_type": "code",
   "execution_count": 9,
   "metadata": {},
   "outputs": [
    {
     "name": "stdout",
     "output_type": "stream",
     "text": [
      "playerid    0\n",
      "library     0\n",
      "dtype: int64\n"
     ]
    }
   ],
   "source": [
    "purchased_games.fillna({'library': '[]'}, inplace=True)\n",
    "\n",
    "print(purchased_games.isnull().sum())"
   ]
  },
  {
   "cell_type": "markdown",
   "metadata": {},
   "source": [
    "## history.csv (no null values)"
   ]
  },
  {
   "cell_type": "markdown",
   "metadata": {},
   "source": [
    "## prices.csv"
   ]
  },
  {
   "cell_type": "code",
   "execution_count": 9,
   "metadata": {},
   "outputs": [],
   "source": [
    "latest_prices = prices.sort_values(\"date_acquired\").groupby(\"gameid\").last().reset_index()"
   ]
  },
  {
   "cell_type": "code",
   "execution_count": null,
   "metadata": {},
   "outputs": [],
   "source": [
    "# replace gameid with NaN price with 0 (free game or not released yet)\n",
    "latest_prices.fillna({'usd': 0}, inplace=True)"
   ]
  },
  {
   "cell_type": "code",
   "execution_count": 12,
   "metadata": {},
   "outputs": [],
   "source": [
    "latest_prices.drop(columns=[\"eur\", \"gbp\", \"jpy\", \"rub\", \"date_acquired\"], inplace=True)"
   ]
  },
  {
   "cell_type": "code",
   "execution_count": 15,
   "metadata": {},
   "outputs": [],
   "source": [
    "# change column name\n",
    "latest_prices.rename(columns={\"usd\": \"price_usd\"}, inplace=True)"
   ]
  },
  {
   "cell_type": "code",
   "execution_count": null,
   "metadata": {},
   "outputs": [],
   "source": [
    "# exchange_rates = {\n",
    "#     \"usd\": 1.0,\n",
    "#     \"eur\": 0.93,\n",
    "#     \"gbp\": 0.77,\n",
    "#     \"jpy\": 150.75,\n",
    "#     \"rub\": 84.51\n",
    "# }\n",
    "\n",
    "# def convert_to_usd(row):\n",
    "#     prices_in_usd = [row[currency] / exchange_rates[currency] for currency in exchange_rates if not pd.isna(row[currency])]\n",
    "#     return sum(prices_in_usd) / len(prices_in_usd) if prices_in_usd else None\n",
    "\n",
    "# latest_prices = prices.sort_values(\"date_acquired\").groupby(\"gameid\").last().reset_index()\n",
    "\n",
    "# # Create a new column with the converted USD price\n",
    "# latest_prices[\"price_usd\"] = latest_prices.apply(convert_to_usd, axis=1)\n",
    "\n",
    "# # Drop old currency columns\n",
    "# latest_prices = latest_prices.drop(columns=[\"usd\", \"eur\", \"gbp\", \"jpy\", \"rub\"])"
   ]
  },
  {
   "cell_type": "code",
   "execution_count": 15,
   "metadata": {},
   "outputs": [],
   "source": [
    "purchased_games[\"library\"] = purchased_games[\"library\"].apply(eval)"
   ]
  },
  {
   "cell_type": "code",
   "execution_count": null,
   "metadata": {},
   "outputs": [],
   "source": [
    "achievements = pd.read_csv(\"./raw_datasets/achievements.csv\")"
   ]
  },
  {
   "cell_type": "code",
   "execution_count": 23,
   "metadata": {},
   "outputs": [],
   "source": [
    "friends = pd.read_csv(\"./datasets/friends.csv\")"
   ]
  },
  {
   "cell_type": "code",
   "execution_count": null,
   "metadata": {},
   "outputs": [],
   "source": [
    "# convert friends column to list of playerid, NaN to empty list\n",
    "friends[\"friends\"] = friends[\"friends\"].apply(lambda x: eval(x) if not pd.isna(x) else [])"
   ]
  },
  {
   "cell_type": "code",
   "execution_count": 27,
   "metadata": {},
   "outputs": [],
   "source": [
    "# write dataset back to csv\n",
    "import os\n",
    "if not os.path.exists('./clean_datasets'):\n",
    "    os.makedirs('./clean_datasets')\n",
    "\n",
    "players.to_csv('./clean_datasets/players.csv', index=False)\n",
    "games.to_csv('./clean_datasets/games.csv', index=False)\n",
    "purchased_games.to_csv('./clean_datasets/purchased_games.csv', index=False)\n",
    "history.to_csv('./clean_datasets/history.csv', index=False)\n",
    "latest_prices.to_csv('./clean_datasets/prices.csv', index=False)\n",
    "achievements.to_csv('./clean_datasets/achievements.csv', index=False)\n",
    "friends.to_csv('./clean_datasets/friends.csv', index=False)"
   ]
  }
 ],
 "metadata": {
  "kernelspec": {
   "display_name": "env",
   "language": "python",
   "name": "python3"
  },
  "language_info": {
   "codemirror_mode": {
    "name": "ipython",
    "version": 3
   },
   "file_extension": ".py",
   "mimetype": "text/x-python",
   "name": "python",
   "nbconvert_exporter": "python",
   "pygments_lexer": "ipython3",
   "version": "3.12.5"
  }
 },
 "nbformat": 4,
 "nbformat_minor": 4
}
