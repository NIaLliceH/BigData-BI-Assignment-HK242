{
 "cells": [
  {
   "cell_type": "code",
   "execution_count": null,
   "metadata": {},
   "outputs": [],
   "source": [
    "import pandas as pd\n",
    "import numpy as np\n",
    "import ast\n",
    "from xgboost import XGBRegressor\n",
    "from sklearn.model_selection import train_test_split\n",
    "from sklearn.metrics import mean_squared_error\n",
    "\n",
    "\n"
   ]
  },
  {
   "cell_type": "markdown",
   "metadata": {},
   "source": [
    "# MODEL - Price - Based Filtering"
   ]
  },
  {
   "cell_type": "code",
   "execution_count": null,
   "metadata": {},
   "outputs": [],
   "source": [
    "purchased_games = pd.read_csv(\"./clean_datasets/purchased_games.csv\")  # (playerid, library)\n",
    "prices = pd.read_csv(\"./clean_datasets/prices.csv\")  # (gameid, date_acquired, price_usd)"
   ]
  },
  {
   "cell_type": "code",
   "execution_count": null,
   "metadata": {},
   "outputs": [],
   "source": [
    "# Tạo DataFrame mở rộng từ danh sách game của mỗi người chơi\n",
    "# Chỉ cần chạy 1 lần - lưu lại rồi đọc thôithôi\n",
    "player_data = []\n",
    "for _, row in purchased_games.iterrows():\n",
    "    playerid = row[\"playerid\"]\n",
    "    \n",
    "    games = ast.literal_eval(row[\"library\"])  \n",
    "    \n",
    "    prices_list = [prices.loc[prices[\"gameid\"] == game, \"price_usd\"].values[0] \n",
    "                   for game in games if game in prices[\"gameid\"].values]\n",
    "\n",
    "    if len(prices_list) > 0:\n",
    "        player_data.append({\n",
    "            \"playerid\": playerid,\n",
    "            \"mean_price\": np.mean(prices_list),\n",
    "            \"median_price\": np.median(prices_list),\n",
    "            \"min_price\": np.min(prices_list),\n",
    "            \"max_price\": np.max(prices_list),\n",
    "            \"last_5_avg\": np.mean(prices_list[-5:]) if len(prices_list) >= 5 else np.mean(prices_list),\n",
    "            \"target_price\": np.mean(prices_list[-5:])  # Nhãn dự đoán\n",
    "        })\n",
    "\n",
    "player_data\n",
    "\n"
   ]
  },
  {
   "cell_type": "code",
   "execution_count": null,
   "metadata": {},
   "outputs": [],
   "source": [
    "df1 = pd.DataFrame(player_data)\n",
    "# Write 1 lần thôi - nhớ comment lại lần sau chỉ cần đọc file\n",
    "df1.to_csv(\"./data_model/player_data_prices.csv\", index=False)\n",
    "# Hoặc đọc file "
   ]
  },
  {
   "cell_type": "code",
   "execution_count": null,
   "metadata": {},
   "outputs": [],
   "source": [
    "# Đọc file thay vì chạy lại\n",
    "df= pd.read_csv(\"./data_model/player_data_prices.csv\")"
   ]
  },
  {
   "cell_type": "code",
   "execution_count": null,
   "metadata": {},
   "outputs": [],
   "source": [
    "# Chuẩn bị dữ liệu huấn luyện\n",
    "X = df.drop(columns=[\"playerid\", \"target_price\"])\n",
    "y = df[\"target_price\"]\n",
    "\n",
    "X_train, X_test, y_train, y_test = train_test_split(X, y, test_size=0.2, random_state=42)\n",
    "\n",
    "# Huấn luyện mô hình XGBoost\n",
    "model = XGBRegressor(n_estimators=100, learning_rate=0.1, max_depth=5, random_state=42)\n",
    "model.fit(X_train, y_train)\n",
    "\n",
    "# Đánh giá mô hình\n",
    "y_pred = model.predict(X_test)\n",
    "rmse = np.sqrt(mean_squared_error(y_test, y_pred))\n",
    "print(f\"RMSE: {rmse}\")\n",
    "\n",
    "# Dự đoán giá tối ưu cho người chơi mới\n",
    "def suggest_game_for_player(playerid):\n",
    "    # Lấy danh sách game của người chơi từ player_data\n",
    "    player_info = df[df[\"playerid\"] == playerid]\n",
    "    \n",
    "    if player_info.empty:\n",
    "        return \"Không tìm thấy dữ liệu người chơi này.\"\n",
    "    \n",
    "    # Trích xuất thông tin về giá\n",
    "    mean_price = player_info[\"mean_price\"].values[0]\n",
    "    median_price = player_info[\"median_price\"].values[0]\n",
    "    min_price = player_info[\"min_price\"].values[0]\n",
    "    max_price = player_info[\"max_price\"].values[0]\n",
    "    last_5_avg = player_info[\"last_5_avg\"].values[0]\n",
    "\n",
    "    # Dự đoán mức giá phù hợp\n",
    "    feature_vector = np.array([[mean_price, median_price, min_price, max_price, last_5_avg]])\n",
    "    predicted_price = model.predict(feature_vector)[0]\n",
    "\n",
    "    # Tìm các game có giá gần nhất với mức giá này\n",
    "    suggested_games = prices.iloc[(prices[\"price_usd\"] - predicted_price).abs().argsort()[:10]]  # Lấy 10 game gần nhất\n",
    "    \n",
    "    return suggested_games\n",
    "\n"
   ]
  },
  {
   "cell_type": "code",
   "execution_count": null,
   "metadata": {},
   "outputs": [],
   "source": [
    "# DDự đoán cho một người chơi mới với danh sách gameid đã mua\n",
    "test_player = 76561198060698936\n",
    "print(suggest_game_for_player(test_player))"
   ]
  },
  {
   "cell_type": "markdown",
   "metadata": {},
   "source": [
    "# MODEL 2 - Content-Based Filtering"
   ]
  },
  {
   "cell_type": "code",
   "execution_count": null,
   "metadata": {},
   "outputs": [],
   "source": [
    "import pandas as pd\n",
    "import re\n",
    "import ast \n",
    "from sklearn.feature_extraction.text import TfidfVectorizer\n",
    "from sklearn.metrics.pairwise import cosine_similarity"
   ]
  },
  {
   "cell_type": "code",
   "execution_count": null,
   "metadata": {},
   "outputs": [],
   "source": [
    "from sklearn.decomposition import TruncatedSVD\n"
   ]
  },
  {
   "cell_type": "code",
   "execution_count": null,
   "metadata": {},
   "outputs": [],
   "source": [
    "# Chạy file popular game trước để lấy 10 % game phổ biến\n",
    "\n",
    "purchased_games = pd.read_csv(\"./clean_datasets/purchased_games.csv\")  # playerid, library\n",
    "top_10_percent_game = pd.read_csv(\"./data_model/top_10_percent_games.csv\")  # gameid, title, genres, description\n",
    "achievements = pd.read_csv(\"./clean_datasets/achievements.csv\")  # achievementid, gameid, title, description\n",
    "history = pd.read_csv(\"./clean_datasets/history.csv\")  # playerid, achievementid, date_acquired"
   ]
  },
  {
   "cell_type": "code",
   "execution_count": null,
   "metadata": {},
   "outputs": [],
   "source": [
    "def preprocess_text(text):\n",
    "    \"\"\" Hàm tiền xử lý văn bản: chuyển thành chữ thường và loại bỏ dấu câu \"\"\"\n",
    "    text = text.lower()\n",
    "    text = re.sub(r'\\s+', ' ', text)  # Loại bỏ khoảng trắng thừa\n",
    "    text = re.sub(r'[^\\w\\s]', '', text)  # Loại bỏ dấu câu\n",
    "    return text\n",
    "\n",
    "top_10_percent_game['processed_title'] = top_10_percent_game['title'].apply(preprocess_text)\n",
    "top_10_percent_game['processed_genres'] = top_10_percent_game['genres'].apply(preprocess_text)\n",
    "top_10_percent_game['processed_developers'] = top_10_percent_game['developers'].apply(preprocess_text)\n",
    "top_10_percent_game['processed_publishers'] = top_10_percent_game['publishers'].apply(preprocess_text)\n",
    "top_10_percent_game['processed_languages'] = top_10_percent_game['supported_languages'].apply(preprocess_text)\n",
    "\n",
    "# Tạo một cột tổng hợp các thông tin để vector hóa\n",
    "top_10_percent_game['combined_features'] = top_10_percent_game['processed_title'] + ' ' + \\\n",
    "                              top_10_percent_game['processed_genres'] + ' ' + \\\n",
    "                              top_10_percent_game['processed_developers'] + ' ' + \\\n",
    "                              top_10_percent_game['processed_publishers'] + ' ' + \\\n",
    "                              top_10_percent_game['processed_languages']\n",
    "top_10_percent_game"
   ]
  },
  {
   "cell_type": "code",
   "execution_count": null,
   "metadata": {},
   "outputs": [],
   "source": [
    "# Chạy 1 lần rồi sau đó đọc file thôi\n",
    "# Tạo vector TF-IDF cho các đặc trưng tổng hợp của game\n",
    "tfidf_vectorizer = TfidfVectorizer(stop_words='english')\n",
    "games_tfidf = tfidf_vectorizer.fit_transform(top_10_percent_game['combined_features'])\n",
    "\n",
    "# Tính toán độ tương đồng cosine giữa các game\n",
    "cosine_sim = cosine_similarity(games_tfidf)\n",
    "\n",
    "# Lưu kết quả cosine similarity vào CSV để tái sử dụng\n",
    "cosine_sim_df = pd.DataFrame(cosine_sim, index=top_10_percent_game['gameid'], columns=top_10_percent_game['gameid'])\n",
    "cosine_sim_df.to_csv('./data_model/cosine_similarity.csv', index=True)\n"
   ]
  },
  {
   "cell_type": "code",
   "execution_count": null,
   "metadata": {},
   "outputs": [],
   "source": [
    "# cosine_sim_df = pd.read_csv('./data_model/cosine_similarity.csv')\n",
    "cosine_sim_df"
   ]
  },
  {
   "cell_type": "code",
   "execution_count": null,
   "metadata": {},
   "outputs": [],
   "source": [
    "def preprocess_purchased_games(purchased_games):\n",
    "    def safe_eval(val):\n",
    "        if isinstance(val, str):  \n",
    "            try:\n",
    "                return ast.literal_eval(val)\n",
    "            except (ValueError, SyntaxError):\n",
    "                return []  # Trả về danh sách rỗng nếu lỗi\n",
    "        elif isinstance(val, list):\n",
    "            return val  \n",
    "        return []  # Trả về danh sách rỗng nếu không phải list\n",
    "\n",
    "    purchased_games['library'] = purchased_games['library'].apply(safe_eval)\n",
    "    return purchased_games\n"
   ]
  },
  {
   "cell_type": "code",
   "execution_count": null,
   "metadata": {},
   "outputs": [],
   "source": [
    "def recommend_games_for_player(playerid, purchased_games, cosine_sim_df, games_df, top_n=10):\n",
    "    \"\"\"Gợi ý game dựa trên lịch sử mua game của người chơi.\"\"\"\n",
    "    \n",
    "    # Chuyển playerid và gameid về kiểu string để tránh lỗi\n",
    "    purchased_games['playerid'] = purchased_games['playerid'].astype(str)\n",
    "    playerid = str(playerid)\n",
    "\n",
    "    # Lọc danh sách game mà người chơi đã mua\n",
    "    player_games = purchased_games[purchased_games['playerid'] == playerid]\n",
    "\n",
    "    if player_games.empty:\n",
    "        print(f\"⚠️ Không tìm thấy người chơi {playerid} trong danh sách purchased_games.\")\n",
    "        return games_df.head(top_n)[['gameid', 'title', 'genres']]  # Trả về game phổ biến\n",
    "    \n",
    "    # Lấy danh sách game đã mua\n",
    "    purchased_game_ids = player_games['library'].values[0]\n",
    "    \n",
    "    # Nếu danh sách rỗng, trả về game phổ biến\n",
    "    if not purchased_game_ids:\n",
    "        print(f\"⚠️ Người chơi {playerid} chưa mua game nào.\")\n",
    "        return games_df.head(top_n)[['gameid', 'title', 'genres']]\n",
    "    \n",
    "    # Tính điểm tương đồng\n",
    "    similar_scores = pd.Series(dtype=float)\n",
    "    for game_id in purchased_game_ids:\n",
    "        if game_id in cosine_sim_df.index:\n",
    "            similar_scores = pd.concat([similar_scores, cosine_sim_df[game_id]])\n",
    "        \n",
    "\n",
    "    # Tổng hợp điểm số, sắp xếp giảm dần\n",
    "    similar_scores = similar_scores.groupby(similar_scores.index).sum().sort_values(ascending=False)\n",
    "    \n",
    "    # Loại bỏ game đã mua, chọn 10 game đầu tiên\n",
    "    recommended_game_ids = similar_scores[~similar_scores.index.isin(purchased_game_ids)].head(top_n).index\n",
    "    \n",
    "    # Nếu không đủ game để gợi ý (vì không tìm thấy trong cosine_sim_df), bổ sung thêm game phổ biến\n",
    "    if len(recommended_game_ids) < top_n:\n",
    "        print(f\"⚠️ Không đủ game gợi ý. Bổ sung thêm game phổ biến.\")\n",
    "        recommended_game_ids = recommended_game_ids.append(games_df[~games_df['gameid'].isin(purchased_game_ids)].head(top_n - len(recommended_game_ids))['gameid'])\n",
    "    \n",
    "    return games_df[games_df['gameid'].isin(recommended_game_ids)][['gameid', 'title', 'genres']]\n",
    "\n"
   ]
  },
  {
   "cell_type": "code",
   "execution_count": null,
   "metadata": {},
   "outputs": [],
   "source": [
    "purchased_games = preprocess_purchased_games(purchased_games)  # Chuyển đổi cột 'library'"
   ]
  },
  {
   "cell_type": "code",
   "execution_count": null,
   "metadata": {},
   "outputs": [],
   "source": [
    "playerid = 76561198060698936  \n",
    "recommended_games = recommend_games_for_player(playerid, purchased_games, cosine_sim_df, top_10_percent_game)\n",
    "print(recommended_games)"
   ]
  },
  {
   "cell_type": "markdown",
   "metadata": {},
   "source": [
    "# MODEL 3 - Collaborative Filtering"
   ]
  },
  {
   "cell_type": "code",
   "execution_count": null,
   "metadata": {},
   "outputs": [],
   "source": [
    "from pyspark.sql import SparkSession\n",
    "from pyspark.ml.recommendation import ALS\n",
    "from pyspark.sql.functions import col"
   ]
  },
  {
   "cell_type": "code",
   "execution_count": null,
   "metadata": {},
   "outputs": [],
   "source": [
    "spark = SparkSession.builder.appName(\"GameRecommendation\").getOrCreate()\n"
   ]
  },
  {
   "cell_type": "code",
   "execution_count": null,
   "metadata": {},
   "outputs": [],
   "source": [
    "\n",
    "import numpy as np\n",
    "import pandas as pd\n",
    "from scipy.sparse import csr_matrix\n",
    "from sklearn.preprocessing import LabelEncoder\n",
    "from sklearn.decomposition import TruncatedSVD\n",
    "import pickle\n"
   ]
  },
  {
   "cell_type": "code",
   "execution_count": null,
   "metadata": {},
   "outputs": [],
   "source": [
    "purchased_games = pd.read_csv(\"./clean_datasets/purchased_games.csv\")  # (playerid, library)\n"
   ]
  },
  {
   "cell_type": "code",
   "execution_count": null,
   "metadata": {},
   "outputs": [],
   "source": [
    "purchased_games"
   ]
  },
  {
   "cell_type": "code",
   "execution_count": null,
   "metadata": {},
   "outputs": [],
   "source": []
  },
  {
   "cell_type": "code",
   "execution_count": null,
   "metadata": {},
   "outputs": [],
   "source": [
    "# purchased_games['library'] = purchased_games['library'].apply(lambda x: x.split(','))\n"
   ]
  },
  {
   "cell_type": "code",
   "execution_count": null,
   "metadata": {},
   "outputs": [],
   "source": [
    "purchased_games"
   ]
  },
  {
   "cell_type": "code",
   "execution_count": null,
   "metadata": {},
   "outputs": [],
   "source": [
    "all_games = set()\n",
    "for games in purchased_games[\"library\"]:\n",
    "    if isinstance(games, str):  # Nếu là chuỗi, tách game\n",
    "        cleaned_games = [game.strip(\"[]\") for game in games.split(',')]\n",
    "    elif isinstance(games, list):  # Nếu là danh sách, xử lý trực tiếp\n",
    "        cleaned_games = [game.strip(\"[]\") for game in games]\n",
    "    all_games.update(cleaned_games)\n",
    "\n",
    "game_to_index = {game: idx for idx, game in enumerate(all_games)}\n",
    "index_to_game = {idx: game for game, idx in game_to_index.items()}\n",
    "\n",
    "# Tạo ánh xạ player_id → index\n",
    "player_to_index = {player_id: idx for idx, player_id in enumerate(purchased_games[\"playerid\"])}\n",
    "\n",
    "\n"
   ]
  },
  {
   "cell_type": "code",
   "execution_count": null,
   "metadata": {},
   "outputs": [],
   "source": [
    "all_games"
   ]
  },
  {
   "cell_type": "code",
   "execution_count": null,
   "metadata": {},
   "outputs": [],
   "source": [
    "index_to_game"
   ]
  },
  {
   "cell_type": "code",
   "execution_count": null,
   "metadata": {},
   "outputs": [],
   "source": [
    "player_to_index"
   ]
  },
  {
   "cell_type": "code",
   "execution_count": null,
   "metadata": {},
   "outputs": [],
   "source": [
    "game_to_index"
   ]
  },
  {
   "cell_type": "code",
   "execution_count": null,
   "metadata": {},
   "outputs": [],
   "source": [
    "# from scipy.sparse import lil_matrix, save_npz, load_npz\n",
    "\n",
    "# num_players = len(purchased_games)\n",
    "# num_games = len(all_games)\n",
    "# interaction_matrix = lil_matrix((num_players, num_games), dtype=np.uint8)\n",
    "\n",
    "# for i, games in enumerate(purchased_games[\"library\"]):\n",
    "#     if isinstance(games, str):  # Nếu games là chuỗi, chuyển nó thành danh sách\n",
    "#         games = games.strip(\"[]\").split(\",\")  # Tách chuỗi thành danh sách\n",
    "\n",
    "#     for game in games:\n",
    "#         game = str(game).strip()  # Đảm bảo game ID là chuỗi không có khoảng trắng\n",
    "\n",
    "#         if game in game_to_index:  # Kiểm tra game có tồn tại trong game_to_index không\n",
    "#             # if i < 1:     \n",
    "#                 # print(\"Abc\")\n",
    "#                 # print(game_to_index[game])\n",
    "\n",
    "#             interaction_matrix[i, game_to_index[game]] = 1\n",
    "\n",
    "# # Chuyển ma trận sang CSR (tối ưu tính toán)\n",
    "# interaction_matrix = interaction_matrix.tocsr()\n",
    "\n",
    "# # Lưu ma trận vào file để tái sử dụng mà không cần tính toán lại\n",
    "# save_npz(\"./data_model/interaction_matrix.npz\", interaction_matrix)\n",
    "\n",
    "\n"
   ]
  },
  {
   "cell_type": "code",
   "execution_count": null,
   "metadata": {},
   "outputs": [],
   "source": [
    "from scipy.sparse import lil_matrix, save_npz, load_npz\n",
    "\n",
    "interaction_matrix = load_npz(\"./data_model/interaction_matrix.npz\")\n"
   ]
  },
  {
   "cell_type": "code",
   "execution_count": null,
   "metadata": {},
   "outputs": [],
   "source": [
    "data = []\n",
    "for player_id, games in enumerate(interaction_matrix):\n",
    "    for game_index in games.nonzero()[1]:\n",
    "        data.append((int(player_id), int(game_index), float(1)))  # Chuyển đổi kiểu dữ liệu"
   ]
  },
  {
   "cell_type": "code",
   "execution_count": null,
   "metadata": {},
   "outputs": [],
   "source": [
    "interaction_matrix"
   ]
  },
  {
   "cell_type": "code",
   "execution_count": null,
   "metadata": {},
   "outputs": [],
   "source": [
    "data"
   ]
  },
  {
   "cell_type": "code",
   "execution_count": null,
   "metadata": {},
   "outputs": [],
   "source": [
    "# Tạo DataFrame PySpark\n",
    "columns = [\"player_id\", \"game_id\", \"rating\"]\n",
    "df = spark.createDataFrame(data, columns)"
   ]
  },
  {
   "cell_type": "code",
   "execution_count": null,
   "metadata": {},
   "outputs": [],
   "source": [
    "df = df.withColumn(\"player_id\", col(\"player_id\").cast(\"int\"))\n",
    "df = df.withColumn(\"game_id\", col(\"game_id\").cast(\"int\"))\n",
    "df = df.withColumn(\"rating\", col(\"rating\").cast(\"float\"))\n",
    "df.printSchema()  # Xác nhận lại kiểu dữ liệu\n"
   ]
  },
  {
   "cell_type": "code",
   "execution_count": null,
   "metadata": {},
   "outputs": [],
   "source": [
    "df"
   ]
  },
  {
   "cell_type": "code",
   "execution_count": null,
   "metadata": {},
   "outputs": [],
   "source": [
    "print(spark)\n"
   ]
  },
  {
   "cell_type": "code",
   "execution_count": null,
   "metadata": {},
   "outputs": [],
   "source": []
  },
  {
   "cell_type": "code",
   "execution_count": null,
   "metadata": {},
   "outputs": [],
   "source": [
    "df.printSchema()\n"
   ]
  },
  {
   "cell_type": "code",
   "execution_count": null,
   "metadata": {},
   "outputs": [],
   "source": [
    "from pyspark.sql.functions import col, count"
   ]
  },
  {
   "cell_type": "code",
   "execution_count": null,
   "metadata": {},
   "outputs": [],
   "source": [
    "# df.count() # Kiểm tra số dòng trong DataFrame\n",
    "# print(df.schema)  # Xem kiểu dữ liệu của từng cột\n"
   ]
  },
  {
   "cell_type": "code",
   "execution_count": null,
   "metadata": {},
   "outputs": [],
   "source": [
    "# df.describe().show()  # Kiểm tra thống kê dữ liệu\n",
    "# df.select([col(c).isNull().sum() for c in df.columns]).show()  # Kiểm tra giá trị null\n",
    "# df.show(5)  # Xem thử 5 dòng đầu"
   ]
  },
  {
   "cell_type": "code",
   "execution_count": null,
   "metadata": {},
   "outputs": [],
   "source": [
    "# Khởi tạo mô hình ALS\n",
    "from pyspark.ml.recommendation import ALS\n",
    "\n",
    "als = ALS(\n",
    "    maxIter=10,         # Số vòng lặp\n",
    "    regParam=0.1,       # Hệ số điều chuẩn\n",
    "    userCol=\"player_id\",\n",
    "    itemCol=\"game_id\",\n",
    "    ratingCol=\"rating\",\n",
    "    coldStartStrategy=\"drop\"  # Loại bỏ dữ liệu không đủ thông tin\n",
    ")\n",
    "\n",
    "# Huấn luyện mô hình\n",
    "model = als.fit(df)\n"
   ]
  },
  {
   "cell_type": "code",
   "execution_count": null,
   "metadata": {},
   "outputs": [],
   "source": [
    "interaction_matrix"
   ]
  },
  {
   "cell_type": "code",
   "execution_count": null,
   "metadata": {},
   "outputs": [],
   "source": [
    "interaction_matrix_dense = interaction_matrix.toarray()\n"
   ]
  },
  {
   "cell_type": "code",
   "execution_count": null,
   "metadata": {},
   "outputs": [],
   "source": [
    "interaction_matrix_dense"
   ]
  },
  {
   "cell_type": "code",
   "execution_count": null,
   "metadata": {},
   "outputs": [],
   "source": [
    "\n",
    "from scipy.sparse.linalg import svds\n",
    "\n",
    "num_components = 50\n",
    "U_svd, sigma_svd, Vt_svd = svds(interaction_matrix, k=num_components)\n",
    "\n",
    "# Chuyển sigma thành ma trận chéo\n",
    "sigma_svd = np.diag(sigma_svd)\n",
    "\n",
    "# Lưu kết quả để sử dụng lại\n",
    "with open(\"./data_model/svd_model.pkl\", \"wb\") as f:\n",
    "    pickle.dump((U_svd, sigma_svd, Vt_svd), f)\n"
   ]
  },
  {
   "cell_type": "code",
   "execution_count": null,
   "metadata": {},
   "outputs": [],
   "source": [
    "# density = interaction_matrix.nnz / (interaction_matrix.shape[0] * interaction_matrix.shape[1])\n",
    "# print(f\"Mật độ dữ liệu không rỗng: {density:.6f}\")"
   ]
  },
  {
   "cell_type": "code",
   "execution_count": null,
   "metadata": {},
   "outputs": [],
   "source": [
    "from sklearn.metrics.pairwise import cosine_similarity\n",
    "\n",
    "def get_similar_users(player_index, user_embeddings_sparse, top_k=20):\n",
    "    \"\"\"\n",
    "    Lấy danh sách top_k người chơi có độ tương đồng cao nhất với player_index\n",
    "    \"\"\"\n",
    "    similarities = cosine_similarity(user_embeddings_sparse[player_index], user_embeddings_sparse).flatten()\n",
    "    # print(similarities)\n",
    "    similar_users = np.argsort(similarities)[::-1][1:top_k + 1]  # Lấy top_k người chơi gần nhất\n",
    "    return similar_users"
   ]
  },
  {
   "cell_type": "code",
   "execution_count": null,
   "metadata": {},
   "outputs": [],
   "source": [
    "def recommend_games(player_id, U_svd, sigma_svd, Vt_svd, interaction_matrix, \n",
    "                    game_to_index, index_to_game, player_to_index, num_recommendations=10):\n",
    "    \n",
    "    # Kiểm tra xem player_id có trong player_to_index không\n",
    "    if player_id not in player_to_index:\n",
    "        print(\"❌ Player ID không hợp lệ.\")\n",
    "        return []\n",
    "\n",
    "    # Chuyển player_id thành index\n",
    "    player_index = player_to_index[player_id]\n",
    "\n",
    "    # Tạo sparse embedding để tiết kiệm bộ nhớ\n",
    "    from scipy.sparse import csr_matrix\n",
    "    user_embeddings_sparse = csr_matrix(U_svd @ sigma_svd)\n",
    "    print(user_embeddings_sparse)\n",
    "    # Lấy danh sách người chơi tương tự\n",
    "    similar_users = get_similar_users(player_index, user_embeddings_sparse)\n",
    "    print(similar_users)\n",
    "    print(similarities[similar_users])\n",
    "    # Tập hợp các game mà những người chơi tương tự đã mua\n",
    "    recommended_games = set()\n",
    "    for similar_user in similar_users:\n",
    "        recommended_games.update(interaction_matrix[similar_user].nonzero()[1])\n",
    "    print(recommended_games)\n",
    "    # Loại bỏ game mà người chơi hiện tại đã mua\n",
    "    purchased_games = set(interaction_matrix[player_index].nonzero()[1])\n",
    "    final_recommendations = [index_to_game[idx] for idx in recommended_games if idx not in purchased_games]\n",
    "\n",
    "    return final_recommendations[:num_recommendations]  # Lấy đúng số lượng cần thiết\n"
   ]
  },
  {
   "cell_type": "code",
   "execution_count": null,
   "metadata": {},
   "outputs": [],
   "source": [
    "player_id = 76561198060698936  # ID của người chơi cần gợi ý\n",
    "recommended_games = recommend_games(player_id, U_svd, sigma_svd, Vt_svd, \n",
    "                                    interaction_matrix, game_to_index, index_to_game, player_to_index)\n",
    "\n",
    "print(\"🎮 Game được đề xuất:\", recommended_games)\n"
   ]
  }
 ],
 "metadata": {
  "kernelspec": {
   "display_name": "myenv",
   "language": "python",
   "name": "python3"
  },
  "language_info": {
   "codemirror_mode": {
    "name": "ipython",
    "version": 3
   },
   "file_extension": ".py",
   "mimetype": "text/x-python",
   "name": "python",
   "nbconvert_exporter": "python",
   "pygments_lexer": "ipython3",
   "version": "3.12.8"
  }
 },
 "nbformat": 4,
 "nbformat_minor": 2
}
