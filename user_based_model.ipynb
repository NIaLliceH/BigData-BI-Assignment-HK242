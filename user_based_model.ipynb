{
  "cells": [
    {
      "cell_type": "markdown",
      "metadata": {},
      "source": [
        "# Model 3: user-based/collaborative filtering (ALS)\n",
        "- Recommend games to users based on similar users’ preferences.\n",
        "- input: purchased_games\n",
        "- This code run successfully on Google Colab"
      ]
    },
    {
      "cell_type": "code",
      "execution_count": null,
      "metadata": {
        "colab": {
          "base_uri": "https://localhost:8080/"
        },
        "id": "qTxQJYFjzJWJ",
        "outputId": "f28e44e5-0c9b-4b1d-feca-e5370e7ec512"
      },
      "outputs": [
        {
          "name": "stdout",
          "output_type": "stream",
          "text": [
            "Collecting findspark\n",
            "  Downloading findspark-2.0.1-py2.py3-none-any.whl.metadata (352 bytes)\n",
            "Downloading findspark-2.0.1-py2.py3-none-any.whl (4.4 kB)\n",
            "Installing collected packages: findspark\n",
            "Successfully installed findspark-2.0.1\n",
            "Requirement already satisfied: pyspark==3.5.5 in /usr/local/lib/python3.11/dist-packages (3.5.5)\n",
            "Requirement already satisfied: py4j==0.10.9.7 in /usr/local/lib/python3.11/dist-packages (from pyspark==3.5.5) (0.10.9.7)\n"
          ]
        }
      ],
      "source": [
        "!apt-get install openjdk-11-jdk-headless -qq > /dev/null\n",
        "\n",
        "spark_version = \"3.5.5\"\n",
        "!wget -q https://dlcdn.apache.org/spark/spark-{spark_version}/spark-{spark_version}-bin-hadoop3.tgz\n",
        "\n",
        "!tar xf spark-{spark_version}-bin-hadoop3.tgz\n",
        "\n",
        "!pip install findspark\n",
        "\n",
        "!pip install pyspark==3.5.5"
      ]
    },
    {
      "cell_type": "code",
      "execution_count": null,
      "metadata": {
        "id": "aHWiSrfT0s4r"
      },
      "outputs": [],
      "source": [
        "import findspark, os\n",
        "\n",
        "os.environ[\"JAVA_HOME\"] = \"/usr/lib/jvm/java-11-openjdk-amd64\"\n",
        "os.environ[\"SPARK_HOME\"] = \"/content/spark-3.5.5-bin-hadoop3\"\n",
        "\n",
        "findspark.init()"
      ]
    },
    {
      "cell_type": "code",
      "execution_count": null,
      "metadata": {
        "id": "I-Ll1vA30yoa"
      },
      "outputs": [],
      "source": [
        "from pyspark.sql import SparkSession\n",
        "\n",
        "spark = SparkSession.builder \\\n",
        "    .appName(\"SteamGameRecommender\") \\\n",
        "    .config(\"spark.sql.repl.eagerEval.enabled\", True) \\\n",
        "    .getOrCreate()"
      ]
    },
    {
      "cell_type": "code",
      "execution_count": null,
      "metadata": {
        "colab": {
          "base_uri": "https://localhost:8080/"
        },
        "id": "Utim9ijk4WtN",
        "outputId": "04979229-d250-42dc-9e87-39d4e7308ecb"
      },
      "outputs": [
        {
          "name": "stdout",
          "output_type": "stream",
          "text": [
            "Drive already mounted at /content/drive; to attempt to forcibly remount, call drive.mount(\"/content/drive\", force_remount=True).\n"
          ]
        }
      ],
      "source": [
        "from google.colab import drive\n",
        "\n",
        "drive.mount('/content/drive')\n",
        "mount_point = \"/content/drive/MyDrive/colab_mount/\""
      ]
    },
    {
      "cell_type": "code",
      "execution_count": null,
      "metadata": {
        "id": "clS-ODX059wT"
      },
      "outputs": [],
      "source": [
        "purchased_games = spark.read.csv(f'{mount_point}purchased_games_demo.csv', header=True, inferSchema=True)"
      ]
    },
    {
      "cell_type": "code",
      "execution_count": null,
      "metadata": {
        "colab": {
          "base_uri": "https://localhost:8080/"
        },
        "id": "7ROi7D178NCI",
        "outputId": "97e35415-c00b-4f4f-c5f8-2cb0e0bd7179"
      },
      "outputs": [
        {
          "name": "stdout",
          "output_type": "stream",
          "text": [
            "+-----------------+--------------------+\n",
            "|         playerid|             library|\n",
            "+-----------------+--------------------+\n",
            "|76561198060698936|[60, 1670, 3830, ...|\n",
            "|76561198287452552|[10, 80, 100, 240...|\n",
            "|76561198040436563|[10, 80, 100, 300...|\n",
            "|76561198042412488|[300, 240, 220, 3...|\n",
            "|76561198119605821|[47870, 108600, 5...|\n",
            "+-----------------+--------------------+\n",
            "only showing top 5 rows\n",
            "\n"
          ]
        }
      ],
      "source": [
        "purchased_games.show(5)"
      ]
    },
    {
      "cell_type": "code",
      "execution_count": null,
      "metadata": {
        "id": "EZR1yzGDsFfx"
      },
      "outputs": [],
      "source": [
        "from pyspark.sql.functions import regexp_replace, split, col\n",
        "\n",
        "# Step 1: remove brackets, spaces, and split into array of strings\n",
        "purchased_games = purchased_games.withColumn(\n",
        "    \"library\",\n",
        "    split(regexp_replace(\"library\", r\"[\\[\\]\\s]\", \"\"), \",\")\n",
        ")"
      ]
    },
    {
      "cell_type": "code",
      "execution_count": null,
      "metadata": {
        "id": "m5OK9wnACisq"
      },
      "outputs": [],
      "source": [
        "from pyspark.sql.functions import split\n",
        "from pyspark.sql.functions import explode\n",
        "\n",
        "# Split the list into an array (assuming it's stored as a string)\n",
        "# user_game_pairs = purchased_games.withColumn(\"gameid\", explode(\"library\"))\n",
        "\n",
        "# Explode the array into individual rows\n",
        "user_game_pairs = purchased_games.select(col(\"playerid\"), explode(col(\"library\")).alias(\"gameid\"))\n",
        "\n",
        "# Convert gameid to integer (if needed)\n",
        "user_game_pairs = user_game_pairs.withColumn(\"gameid\", col(\"gameid\").cast(\"int\"))"
      ]
    },
    {
      "cell_type": "code",
      "execution_count": null,
      "metadata": {
        "id": "vbqTADt6CpOD"
      },
      "outputs": [],
      "source": [
        "# remove playerid with null gameid\n",
        "user_game_pairs = user_game_pairs.filter(user_game_pairs.gameid.isNotNull())\n",
        "# user_game_pairs.filter(user_game_pairs.gameid.isNull()).show()"
      ]
    },
    {
      "cell_type": "code",
      "execution_count": null,
      "metadata": {
        "id": "BQhGT_mGC087"
      },
      "outputs": [],
      "source": [
        "from pyspark.ml.feature import StringIndexer\n",
        "\n",
        "# Create an indexer for playerid\n",
        "player_indexer = StringIndexer(inputCol=\"playerid\", outputCol=\"userIndex\", handleInvalid=\"skip\")\n",
        "user_game_pairs = player_indexer.fit(user_game_pairs).transform(user_game_pairs)\n",
        "\n",
        "# Convert the new indexed column to Integer\n",
        "user_game_pairs = user_game_pairs.withColumn(\"userIndex\", col(\"userIndex\").cast(\"int\"))"
      ]
    },
    {
      "cell_type": "code",
      "execution_count": null,
      "metadata": {
        "id": "zeQQZhddEQaq"
      },
      "outputs": [],
      "source": [
        "# Convert data into ALS-friendly format (implicit feedback)\n",
        "from pyspark.sql.functions import lit\n",
        "\n",
        "# Assign implicit rating of 1 for all purchases\n",
        "user_game_pairs = user_game_pairs.withColumn(\"rating\", lit(1))"
      ]
    },
    {
      "cell_type": "code",
      "execution_count": null,
      "metadata": {
        "id": "Oj8D67a7Dsyk"
      },
      "outputs": [],
      "source": [
        "from pyspark.ml.recommendation import ALS\n",
        "\n",
        "als = ALS(\n",
        "    maxIter=10,\n",
        "    regParam=0.1,\n",
        "    userCol=\"userIndex\",\n",
        "    itemCol=\"gameid\",\n",
        "    ratingCol=\"rating\",\n",
        "    implicitPrefs=True  # Since we are using implicit feedback\n",
        ")"
      ]
    },
    {
      "cell_type": "code",
      "execution_count": null,
      "metadata": {
        "colab": {
          "base_uri": "https://localhost:8080/"
        },
        "id": "2DY_ufsltWkY",
        "outputId": "782c1e8e-e384-4b4d-c5a5-26ed94d872ec"
      },
      "outputs": [
        {
          "name": "stdout",
          "output_type": "stream",
          "text": [
            "+--------+------+---------+------+\n",
            "|playerid|gameid|userIndex|rating|\n",
            "+--------+------+---------+------+\n",
            "+--------+------+---------+------+\n",
            "\n"
          ]
        }
      ],
      "source": [
        "# check if there is null gameid in user_game_pairs\n",
        "user_game_pairs.filter(user_game_pairs.gameid.isNull()).show()"
      ]
    },
    {
      "cell_type": "code",
      "execution_count": null,
      "metadata": {
        "id": "8OXgF-z_GyQi"
      },
      "outputs": [],
      "source": [
        "model = als.fit(user_game_pairs)"
      ]
    },
    {
      "cell_type": "code",
      "execution_count": null,
      "metadata": {
        "id": "JqD7HA1bLxai"
      },
      "outputs": [],
      "source": [
        "# recommendation = model.recommendForAllUsers(10)\n",
        "# recommendation.show(5, truncate=False)"
      ]
    },
    {
      "cell_type": "code",
      "execution_count": null,
      "metadata": {
        "id": "GrNzGPM2OHvG"
      },
      "outputs": [],
      "source": [
        "# Load the mapping of playerid to userIndex\n",
        "player_index_mapping = user_game_pairs.select(\"playerid\", \"userIndex\").distinct()"
      ]
    },
    {
      "cell_type": "code",
      "execution_count": null,
      "metadata": {
        "id": "38jXWJOTMJul"
      },
      "outputs": [],
      "source": [
        "def get_user_index(playerid):\n",
        "    user_index = player_index_mapping.filter(player_index_mapping.playerid == playerid).select(\"userIndex\").collect()\n",
        "    return user_index[0][\"userIndex\"] if user_index else None\n",
        "\n",
        "# playerid = 76561198049101130  # Example input\n",
        "# user_index = get_user_index(playerid)\n",
        "\n",
        "# if user_index is None:\n",
        "#     print(\"Player ID not found in training data.\")\n",
        "\n",
        "# if user_index is not None:\n",
        "#     top_recommendations = model.recommendForAllUsers(5).filter(f\"userIndex == {user_index}\").select(\"recommendations\").collect()\n",
        "\n",
        "#     if top_recommendations:\n",
        "#         recommended_games = [row[\"gameid\"] for row in top_recommendations[0][\"recommendations\"]]\n",
        "#         print(f\"Top 10 recommended game IDs for player {playerid}: {recommended_games}\")\n",
        "#     else:\n",
        "#         print(\"No recommendations found for this user.\")"
      ]
    },
    {
      "cell_type": "code",
      "execution_count": null,
      "metadata": {
        "id": "XSllEyWcOquo"
      },
      "outputs": [],
      "source": [
        "user_recommendations = model.recommendForAllUsers(10)\n",
        "user_recommendations.write.mode(\"overwrite\").parquet(\"user_recommendations.parquet\")"
      ]
    },
    {
      "cell_type": "code",
      "execution_count": null,
      "metadata": {
        "id": "UXwOVspEQbv6"
      },
      "outputs": [],
      "source": [
        "# Load recommendations from storage\n",
        "user_recommendations = spark.read.parquet(\"user_recommendations.parquet\")\n",
        "\n",
        "# Get recommendations for a specific user\n",
        "def get_recommendations(playerid):\n",
        "    user_index = get_user_index(playerid)\n",
        "    if user_index is None:\n",
        "        return \"User not found in training data.\"\n",
        "\n",
        "    recommendations = user_recommendations.filter(f\"userIndex == {user_index}\").select(\"recommendations\").collect()\n",
        "\n",
        "    if recommendations:\n",
        "        return [row[\"gameid\"] for row in recommendations[0][\"recommendations\"]]\n",
        "    else:\n",
        "        return \"No recommendations available.\""
      ]
    },
    {
      "cell_type": "code",
      "execution_count": null,
      "metadata": {
        "colab": {
          "base_uri": "https://localhost:8080/"
        },
        "id": "MQZMu6YhRMMf",
        "outputId": "a42c7f86-5726-481b-b76b-8b14647400b4"
      },
      "outputs": [
        {
          "name": "stdout",
          "output_type": "stream",
          "text": [
            "[730, 578080, 1172470, 304930, 596350, 444090, 218620, 291550, 431960, 230410]\n"
          ]
        }
      ],
      "source": [
        "# Example usage\n",
        "print(get_recommendations(76561199081881137))"
      ]
    }
  ],
  "metadata": {
    "colab": {
      "provenance": []
    },
    "kernelspec": {
      "display_name": "Python 3",
      "name": "python3"
    },
    "language_info": {
      "name": "python"
    }
  },
  "nbformat": 4,
  "nbformat_minor": 0
}
