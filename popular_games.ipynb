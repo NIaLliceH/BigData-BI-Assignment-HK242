{
 "cells": [
  {
   "cell_type": "code",
   "execution_count": 2,
   "metadata": {},
   "outputs": [],
   "source": [
    "import pandas as pd"
   ]
  },
  {
   "cell_type": "code",
   "execution_count": 3,
   "metadata": {},
   "outputs": [],
   "source": [
    "games = pd.read_csv(\"./clean_datasets/games.csv\")  # gameid, title, genres, description\n",
    "purchased_games = pd.read_csv(\"./clean_datasets/purchased_games.csv\")  # Dữ liệu game đã mua\n",
    "purchased_games['library'] = purchased_games['library'].apply(eval)\n"
   ]
  },
  {
   "cell_type": "code",
   "execution_count": 4,
   "metadata": {},
   "outputs": [],
   "source": [
    "exploded = purchased_games.explode('library').rename(columns={'library': 'gameid'})  # explode library column to separate rows\n",
    "\n",
    "purchases_per_game = exploded.groupby('gameid').size().reset_index(name='purchases_count')\n",
    "\n",
    "# Gộp với bảng games\n",
    "games_with_popularity = pd.merge(games, purchases_per_game, on='gameid', how='left').fillna(0)\n"
   ]
  },
  {
   "cell_type": "code",
   "execution_count": 5,
   "metadata": {},
   "outputs": [],
   "source": [
    "games_with_popularity.to_csv(\"./clean_datasets/games_with_purchase_count.csv\", index=False)"
   ]
  },
  {
   "cell_type": "code",
   "execution_count": 21,
   "metadata": {},
   "outputs": [],
   "source": [
    "top_10_percent_games = games_with_popularity.sort_values(by=\"purchases_count\", ascending=False).head(int(len(games) * 0.1))"
   ]
  },
  {
   "cell_type": "code",
   "execution_count": null,
   "metadata": {},
   "outputs": [],
   "source": [
    "import os\n",
    "if not os.path.exists(\"./data_model\"):\n",
    "    os.makedirs(\"./data_model\")\n",
    "    \n",
    "top_10_percent_games.to_csv(\"./clean_datasets/top_10_percent_games.csv\", index=False)"
   ]
  }
 ],
 "metadata": {
  "kernelspec": {
   "display_name": "env",
   "language": "python",
   "name": "python3"
  },
  "language_info": {
   "codemirror_mode": {
    "name": "ipython",
    "version": 3
   },
   "file_extension": ".py",
   "mimetype": "text/x-python",
   "name": "python",
   "nbconvert_exporter": "python",
   "pygments_lexer": "ipython3",
   "version": "3.12.5"
  }
 },
 "nbformat": 4,
 "nbformat_minor": 2
}
