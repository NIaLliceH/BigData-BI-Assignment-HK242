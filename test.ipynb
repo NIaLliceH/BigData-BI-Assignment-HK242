{
 "cells": [
  {
   "cell_type": "code",
   "execution_count": null,
   "metadata": {},
   "outputs": [],
   "source": [
    "# import pandas as pd\n",
    "# import numpy as np\n",
    "# import ast\n",
    "# from xgboost import XGBRegressor\n",
    "# from sklearn.model_selection import train_test_split\n",
    "# from sklearn.metrics import mean_squared_error\n",
    "# purchased_games = pd.read_csv(\"./clean_datasets/purchased_games.csv\")  # (playerid, library)\n",
    "# prices = pd.read_csv(\"./clean_datasets/prices.csv\")  # (gameid, date_acquired, price_usd)\n",
    "# purchased_games[\"library\"] = purchased_games[\"library\"].apply(lambda x: eval(x) if isinstance(x, str) else x)\n",
    "# # 3️⃣ Mở rộng danh sách game đã mua (Giữ nguyên thứ tự gốc)\n",
    "# purchased_games = purchased_games.explode(\"library\", ignore_index=True).rename(columns={\"library\": \"gameid\"})\n",
    "\n",
    "# # 4️⃣ Gộp dữ liệu để có giá game lúc mua\n",
    "# merged_data = purchased_games.merge(prices, on=\"gameid\", how=\"left\")\n",
    "# player_id= 76561198060698936\n",
    "# player_games = merged_data[merged_data[\"playerid\"] == player_id]\n",
    "# player_games = player_games.sort_index()\n",
    "# player_games = player_games.dropna(subset=[\"price_usd\"])\n",
    "# avg_all_games = player_games[\"price_usd\"].mean()\n",
    "# avg_all_games\n",
    "# # 8️⃣ Tính trung bình giá của 20 game gần nhất (20 game cuối danh sách)\n",
    "# latest_20_games = player_games.tail(20)\n",
    "# latest_20_games \n",
    "# avg_latest_20 = latest_20_games[\"price_usd\"].mean()\n",
    "# avg_latest_20\n",
    "# price_diff = abs((avg_latest_20 - avg_all_games) / avg_all_games) * 100\n",
    "# # 🔟 Ra quyết định\n",
    "# if price_diff <= 20:\n",
    "#     final_avg_price = avg_all_games\n",
    "#     print(\"✅ Chênh lệch dưới 20% → Dùng toàn bộ game.\")\n",
    "# else:\n",
    "#     final_avg_price = avg_latest_20\n",
    "#     print(\"⚠️ Chênh lệch trên 20% → Dùng 20 game gần nhất.\") "
   ]
  }
 ],
 "metadata": {
  "language_info": {
   "name": "python"
  }
 },
 "nbformat": 4,
 "nbformat_minor": 2
}
