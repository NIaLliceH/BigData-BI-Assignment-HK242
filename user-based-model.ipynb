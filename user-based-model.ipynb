{
  "cells": [
    {
      "cell_type": "markdown",
      "metadata": {},
      "source": [
        "# Model 3: user-based/collaborative filtering (ALS)\n",
        "- Recommend games to users based on similar users’ preferences.\n",
        "- input: purchased_games, history\n",
        "- This code run successfully on Google Colab"
      ]
    },
    {
      "cell_type": "code",
      "execution_count": 1,
      "metadata": {
        "colab": {
          "base_uri": "https://localhost:8080/"
        },
        "id": "dKuSwqti3Xdd",
        "outputId": "a97b9bad-04c8-46a9-bec4-d1c8f046dafe"
      },
      "outputs": [
        {
          "name": "stdout",
          "output_type": "stream",
          "text": [
            "Collecting findspark\n",
            "  Downloading findspark-2.0.1-py2.py3-none-any.whl.metadata (352 bytes)\n",
            "Downloading findspark-2.0.1-py2.py3-none-any.whl (4.4 kB)\n",
            "Installing collected packages: findspark\n",
            "Successfully installed findspark-2.0.1\n",
            "Requirement already satisfied: pyspark==3.5.5 in /usr/local/lib/python3.11/dist-packages (3.5.5)\n",
            "Requirement already satisfied: py4j==0.10.9.7 in /usr/local/lib/python3.11/dist-packages (from pyspark==3.5.5) (0.10.9.7)\n"
          ]
        }
      ],
      "source": [
        "!apt-get install openjdk-11-jdk-headless -qq > /dev/null\n",
        "\n",
        "spark_version = \"3.5.5\"\n",
        "!wget -q https://dlcdn.apache.org/spark/spark-{spark_version}/spark-{spark_version}-bin-hadoop3.tgz\n",
        "\n",
        "!tar xf spark-{spark_version}-bin-hadoop3.tgz\n",
        "\n",
        "!pip install findspark\n",
        "\n",
        "!pip install pyspark==3.5.5"
      ]
    },
    {
      "cell_type": "code",
      "execution_count": 2,
      "metadata": {
        "id": "CDTvYJslw1Ea"
      },
      "outputs": [],
      "source": [
        "import findspark, os\n",
        "\n",
        "os.environ[\"JAVA_HOME\"] = \"/usr/lib/jvm/java-11-openjdk-amd64\"\n",
        "os.environ[\"SPARK_HOME\"] = \"/content/spark-3.5.5-bin-hadoop3\"\n",
        "\n",
        "findspark.init()"
      ]
    },
    {
      "cell_type": "code",
      "execution_count": 3,
      "metadata": {
        "id": "C-Dj8ny0w2w8"
      },
      "outputs": [],
      "source": [
        "from pyspark.sql import SparkSession\n",
        "\n",
        "spark = SparkSession.builder \\\n",
        "    .appName(\"SteamGameRecommender\") \\\n",
        "    .config(\"spark.driver.memory\", \"8g\") \\\n",
        "    .getOrCreate()"
      ]
    },
    {
      "cell_type": "code",
      "execution_count": 4,
      "metadata": {
        "colab": {
          "base_uri": "https://localhost:8080/"
        },
        "id": "4ghF5RjdZwU1",
        "outputId": "880462ac-19e0-4b80-fe16-a137e8583a9f"
      },
      "outputs": [
        {
          "name": "stdout",
          "output_type": "stream",
          "text": [
            "Mounted at /content/drive\n"
          ]
        }
      ],
      "source": [
        "from google.colab import drive\n",
        "\n",
        "drive.mount('/content/drive')\n",
        "mount_point = \"/content/drive/MyDrive/colab_mount/\""
      ]
    },
    {
      "cell_type": "code",
      "execution_count": 5,
      "metadata": {
        "id": "4ATdfoMvZyqi"
      },
      "outputs": [],
      "source": [
        "purchased_games = spark.read.csv(f'{mount_point}purchased_games_demo.csv', header=True, inferSchema=True)\n",
        "\n",
        "history = spark.read.csv(f'{mount_point}history.csv', header=True, inferSchema=True)\n",
        "\n",
        "games = spark.read.csv(f'{mount_point}games.csv', header=True, inferSchema=True)"
      ]
    },
    {
      "cell_type": "code",
      "execution_count": 6,
      "metadata": {
        "colab": {
          "base_uri": "https://localhost:8080/"
        },
        "id": "nheuzeB1_SM-",
        "outputId": "b9be9c7f-d67c-4135-e67f-2fce331fb86d"
      },
      "outputs": [
        {
          "name": "stdout",
          "output_type": "stream",
          "text": [
            "+-----------------+--------------------+\n",
            "|         playerid|             library|\n",
            "+-----------------+--------------------+\n",
            "|76561198060698936|[60, 1670, 3830, ...|\n",
            "|76561198287452552|[10, 80, 100, 240...|\n",
            "|76561198040436563|[10, 80, 100, 300...|\n",
            "|76561198042412488|[300, 240, 220, 3...|\n",
            "|76561198119605821|[47870, 108600, 5...|\n",
            "|76561198049686270|                  []|\n",
            "|76561198155814250|                  []|\n",
            "|76561198083492916|[1300, 1309, 1313...|\n",
            "|76561198150634683|[10, 30, 40, 60, ...|\n",
            "|76561198836367256|[2600, 15100, 500...|\n",
            "|76561198131958442|[10, 80, 100, 70,...|\n",
            "|76561198106910534|                  []|\n",
            "|76561198122070915|[50, 70, 130, 120...|\n",
            "|76561198740883087|                  []|\n",
            "|76561198016756834|[10, 80, 100, 20,...|\n",
            "|76561198072740562|[1510, 4000, 9453...|\n",
            "|76561198144540723|                  []|\n",
            "|76561198096557299|                  []|\n",
            "|76561198884939938|[4000, 304930, 39...|\n",
            "|76561198220441373|[2100, 2130, 3830...|\n",
            "+-----------------+--------------------+\n",
            "only showing top 20 rows\n",
            "\n"
          ]
        }
      ],
      "source": [
        "purchased_games.show()"
      ]
    },
    {
      "cell_type": "code",
      "execution_count": 7,
      "metadata": {
        "colab": {
          "base_uri": "https://localhost:8080/"
        },
        "id": "dRu_Cg14_UK3",
        "outputId": "66a09c09-22ed-4fcf-821e-c0cb2283a418"
      },
      "outputs": [
        {
          "name": "stdout",
          "output_type": "stream",
          "text": [
            "+-----------------+-------------+-------------------+\n",
            "|         playerid|achievementid|      date_acquired|\n",
            "+-----------------+-------------+-------------------+\n",
            "|76561198220441373| 403640_ACH_1|2019-12-18 15:33:43|\n",
            "|76561198220441373| 403640_ACH_2|2019-12-18 23:49:51|\n",
            "|76561198220441373| 403640_ACH_3|2019-12-19 23:05:07|\n",
            "|76561198220441373| 403640_ACH_4|2019-12-24 05:50:49|\n",
            "|76561198220441373| 403640_ACH_5|2023-04-19 22:39:36|\n",
            "|76561198220441373| 403640_ACH_6|2023-04-30 02:48:24|\n",
            "|76561198220441373| 403640_ACH_7|2023-04-25 23:59:38|\n",
            "|76561198220441373| 403640_ACH_8|2023-05-07 16:03:48|\n",
            "|76561198220441373| 403640_ACH_9|2022-05-15 18:07:07|\n",
            "|76561198220441373|403640_ACH_10|2023-01-24 18:40:15|\n",
            "|76561198220441373|403640_ACH_13|2023-04-12 22:58:19|\n",
            "|76561198220441373|403640_ACH_21|2023-04-24 22:51:07|\n",
            "|76561198220441373|403640_ACH_23|2023-04-30 02:57:09|\n",
            "|76561198220441373|403640_ACH_24|2023-05-06 23:43:09|\n",
            "|76561198220441373|403640_ACH_25|2023-05-06 22:15:59|\n",
            "|76561198220441373|403640_ACH_26|2023-05-07 15:49:35|\n",
            "|76561198220441373|403640_ACH_31|2023-04-15 15:55:02|\n",
            "|76561198220441373|403640_ACH_32|2023-04-25 23:29:49|\n",
            "|76561198220441373|403640_ACH_35|2022-05-16 00:36:10|\n",
            "|76561198220441373|403640_ACH_37|2023-05-07 00:23:33|\n",
            "+-----------------+-------------+-------------------+\n",
            "only showing top 20 rows\n",
            "\n"
          ]
        }
      ],
      "source": [
        "history.show()"
      ]
    },
    {
      "cell_type": "code",
      "execution_count": 8,
      "metadata": {
        "id": "eZ4-x-LoKs8-"
      },
      "outputs": [],
      "source": [
        "from pyspark.sql.functions import split, col, count, regexp_replace, explode, coalesce, lit"
      ]
    },
    {
      "cell_type": "code",
      "execution_count": 9,
      "metadata": {
        "id": "yjeprLoMLbxT"
      },
      "outputs": [],
      "source": [
        "# Extract gameid from achievementid\n",
        "history_extracted = history.withColumn(\"gameid\", split(col(\"achievementid\"), \"_\")[0])"
      ]
    },
    {
      "cell_type": "code",
      "execution_count": 10,
      "metadata": {
        "colab": {
          "base_uri": "https://localhost:8080/"
        },
        "id": "AZg9kibeLc1R",
        "outputId": "903cdefc-f9ca-48d8-f4c3-e5adc9a8ce9a"
      },
      "outputs": [
        {
          "name": "stdout",
          "output_type": "stream",
          "text": [
            "+-----------------+-------------+-------------------+------+\n",
            "|         playerid|achievementid|      date_acquired|gameid|\n",
            "+-----------------+-------------+-------------------+------+\n",
            "|76561198220441373| 403640_ACH_1|2019-12-18 15:33:43|403640|\n",
            "|76561198220441373| 403640_ACH_2|2019-12-18 23:49:51|403640|\n",
            "|76561198220441373| 403640_ACH_3|2019-12-19 23:05:07|403640|\n",
            "|76561198220441373| 403640_ACH_4|2019-12-24 05:50:49|403640|\n",
            "|76561198220441373| 403640_ACH_5|2023-04-19 22:39:36|403640|\n",
            "|76561198220441373| 403640_ACH_6|2023-04-30 02:48:24|403640|\n",
            "|76561198220441373| 403640_ACH_7|2023-04-25 23:59:38|403640|\n",
            "|76561198220441373| 403640_ACH_8|2023-05-07 16:03:48|403640|\n",
            "|76561198220441373| 403640_ACH_9|2022-05-15 18:07:07|403640|\n",
            "|76561198220441373|403640_ACH_10|2023-01-24 18:40:15|403640|\n",
            "|76561198220441373|403640_ACH_13|2023-04-12 22:58:19|403640|\n",
            "|76561198220441373|403640_ACH_21|2023-04-24 22:51:07|403640|\n",
            "|76561198220441373|403640_ACH_23|2023-04-30 02:57:09|403640|\n",
            "|76561198220441373|403640_ACH_24|2023-05-06 23:43:09|403640|\n",
            "|76561198220441373|403640_ACH_25|2023-05-06 22:15:59|403640|\n",
            "|76561198220441373|403640_ACH_26|2023-05-07 15:49:35|403640|\n",
            "|76561198220441373|403640_ACH_31|2023-04-15 15:55:02|403640|\n",
            "|76561198220441373|403640_ACH_32|2023-04-25 23:29:49|403640|\n",
            "|76561198220441373|403640_ACH_35|2022-05-16 00:36:10|403640|\n",
            "|76561198220441373|403640_ACH_37|2023-05-07 00:23:33|403640|\n",
            "+-----------------+-------------+-------------------+------+\n",
            "only showing top 20 rows\n",
            "\n"
          ]
        }
      ],
      "source": [
        "history_extracted.show()"
      ]
    },
    {
      "cell_type": "code",
      "execution_count": 11,
      "metadata": {
        "id": "jUmNTiY6LrET"
      },
      "outputs": [],
      "source": [
        "# Group by playerid and gameid, count achievements\n",
        "achievement_counts = history_extracted.groupBy(\"playerid\", \"gameid\") \\\n",
        "                                   .agg(count(\"achievementid\").alias(\"achievement_count\"))"
      ]
    },
    {
      "cell_type": "code",
      "execution_count": 12,
      "metadata": {
        "colab": {
          "base_uri": "https://localhost:8080/"
        },
        "id": "on8lSxJBLuU0",
        "outputId": "fd51ae16-2a93-4733-b692-46e1876e1fd0"
      },
      "outputs": [
        {
          "name": "stdout",
          "output_type": "stream",
          "text": [
            "+-----------------+-------+-----------------+\n",
            "|         playerid| gameid|achievement_count|\n",
            "+-----------------+-------+-----------------+\n",
            "|76561198220441373| 526870|               11|\n",
            "|76561197997318138| 286320|               10|\n",
            "|76561197997318138| 316610|                5|\n",
            "|76561197997318138| 258520|               14|\n",
            "|76561197997318138| 359310|               38|\n",
            "|76561198046388487| 219640|                1|\n",
            "|76561198056486056| 291010|                2|\n",
            "|76561199172501672|2120900|                1|\n",
            "|76561198008683936| 211400|               13|\n",
            "|76561198008683936| 257420|               54|\n",
            "|76561198212587903| 360430|               85|\n",
            "|76561198099373691| 238320|                9|\n",
            "|76561197987596512| 314020|               13|\n",
            "|76561197987596512| 575950|             2995|\n",
            "|76561198369428194| 304530|                9|\n",
            "|76561198093121593|    550|                4|\n",
            "|76561198093121593| 275850|               15|\n",
            "|76561198267894519| 434460|                2|\n",
            "|76561198071709714|1100410|                1|\n",
            "|76561198071709714| 727850|                6|\n",
            "+-----------------+-------+-----------------+\n",
            "only showing top 20 rows\n",
            "\n"
          ]
        }
      ],
      "source": [
        "achievement_counts.show()"
      ]
    },
    {
      "cell_type": "code",
      "execution_count": 15,
      "metadata": {
        "colab": {
          "base_uri": "https://localhost:8080/"
        },
        "id": "Hb9GHXq4BPAF",
        "outputId": "62d9ca7a-1789-4bee-e11f-fc2522c34911"
      },
      "outputs": [
        {
          "name": "stdout",
          "output_type": "stream",
          "text": [
            "+-----------------+------+-----------------+\n",
            "|         playerid|gameid|achievement_count|\n",
            "+-----------------+------+-----------------+\n",
            "|76561198099809175|664290|            10979|\n",
            "|76561198298591193|664290|            10979|\n",
            "|76561197987340453|664290|            10979|\n",
            "|76561198071675053|664290|            10979|\n",
            "|76561198324276106|664290|            10979|\n",
            "|76561198298591193|573060|             9821|\n",
            "|76561198324276106|573060|             9821|\n",
            "|76561198071675053|573060|             9821|\n",
            "|76561198132280885|664290|             7985|\n",
            "|76561198307860947|664290|             5989|\n",
            "|76561197987340453|640310|             5394|\n",
            "|76561198298591193|640310|             5394|\n",
            "|76561198099241446|640310|             5394|\n",
            "|76561198398342040|640310|             5394|\n",
            "|76561198314830742|640310|             5394|\n",
            "|76561198071675053|640310|             5394|\n",
            "|76561198324276106|640310|             5394|\n",
            "|76561198206518029|640310|             5394|\n",
            "|76561198168918509|640310|             5294|\n",
            "|76561198307860947|687490|             5000|\n",
            "|76561198354561666|826160|             5000|\n",
            "|76561198280871241|850050|             5000|\n",
            "|76561198298591193|710110|             5000|\n",
            "|76561197987596512|693250|             5000|\n",
            "|76561197987596512|844140|             5000|\n",
            "|76561198099241446|693880|             5000|\n",
            "|76561198298591193|804600|             5000|\n",
            "|76561197987340453|804600|             5000|\n",
            "|76561197987596512|767030|             5000|\n",
            "|76561198280871241|804600|             5000|\n",
            "|76561198298591193|723450|             5000|\n",
            "|76561198298591193|843890|             5000|\n",
            "|76561198298591193|754120|             5000|\n",
            "|76561198280871241|843890|             5000|\n",
            "|76561199643317571|585830|             5000|\n",
            "|76561197987596512|690240|             5000|\n",
            "|76561198354561666|857010|             5000|\n",
            "|76561198307860947|821520|             5000|\n",
            "|76561198354561666|585830|             5000|\n",
            "|76561197987340453|699590|             5000|\n",
            "|76561197987340453|706330|             5000|\n",
            "|76561198859357960|684050|             5000|\n",
            "|76561198298591193|858420|             5000|\n",
            "|76561197987596512|828150|             5000|\n",
            "|76561197987596512|710110|             5000|\n",
            "|76561198280871241|693880|             5000|\n",
            "|76561198307860947|706320|             5000|\n",
            "|76561198298591193|687480|             5000|\n",
            "|76561198298591193|828150|             5000|\n",
            "|76561198280871241|821520|             5000|\n",
            "|76561197987596512|843890|             5000|\n",
            "|76561197987596512|840710|             5000|\n",
            "|76561197987340453|690240|             5000|\n",
            "|76561198143198006|585830|             5000|\n",
            "|76561197987340453|710110|             5000|\n",
            "|76561197987596512|858420|             5000|\n",
            "|76561199643317571|843890|             5000|\n",
            "|76561198280871241|730220|             5000|\n",
            "|76561197987596512|684050|             5000|\n",
            "|76561198412525885|754120|             5000|\n",
            "|76561197987596512|706330|             5000|\n",
            "|76561197987596512|828550|             5000|\n",
            "|76561197987596512|693880|             5000|\n",
            "|76561197987340453|840710|             5000|\n",
            "|76561197987340453|796900|             5000|\n",
            "|76561198099241446|699590|             5000|\n",
            "|76561198298591193|686550|             5000|\n",
            "|76561198298591193|861740|             5000|\n",
            "|76561197987340453|693880|             5000|\n",
            "|76561199136914931|743640|             5000|\n",
            "|76561198298591193|658430|             5000|\n",
            "|76561197987596512|686550|             5000|\n",
            "|76561198298591193|774281|             5000|\n",
            "|76561198050833283|684050|             5000|\n",
            "|76561197987596512|827640|             5000|\n",
            "|76561198298591193|850050|             5000|\n",
            "|76561198298591193|808130|             5000|\n",
            "|76561198280871241|851710|             5000|\n",
            "|76561197987596512|806610|             5000|\n",
            "|76561197987340453|851710|             5000|\n",
            "|76561198298591193|710120|             5000|\n",
            "|76561198307860947|828550|             5000|\n",
            "|76561197987340453|738000|             5000|\n",
            "|76561198298591193|743640|             5000|\n",
            "|76561197987596512|693890|             5000|\n",
            "|76561198280871241|690240|             5000|\n",
            "|76561199643317571|857010|             5000|\n",
            "|76561198299320439|743640|             5000|\n",
            "|76561198298591193|705300|             5000|\n",
            "|76561198307860947|767030|             5000|\n",
            "|76561198298591193|826160|             5000|\n",
            "|76561198298591193|706320|             5000|\n",
            "|76561197987596512|687490|             5000|\n",
            "|76561198859357960|743640|             5000|\n",
            "|76561198298591193|798850|             5000|\n",
            "|76561197987596512|796900|             5000|\n",
            "|76561198298591193|756230|             5000|\n",
            "|76561198099241446|706320|             5000|\n",
            "|76561198354561666|824190|             5000|\n",
            "|76561197987596512|824190|             5000|\n",
            "+-----------------+------+-----------------+\n",
            "only showing top 100 rows\n",
            "\n"
          ]
        }
      ],
      "source": [
        "# print playerid with max achievement_count\n",
        "achievement_counts.orderBy(col(\"achievement_count\").desc()).show(100)"
      ]
    },
    {
      "cell_type": "code",
      "execution_count": 16,
      "metadata": {
        "id": "U-VPhIuKXJtX"
      },
      "outputs": [],
      "source": [
        "# Step 1: Get list of playerids who have achievements\n",
        "valid_players_df = achievement_counts.select(\"playerid\").distinct()"
      ]
    },
    {
      "cell_type": "code",
      "execution_count": 17,
      "metadata": {
        "colab": {
          "base_uri": "https://localhost:8080/"
        },
        "id": "IQEPR4tQXNFO",
        "outputId": "e2a7b749-7314-459b-e19e-c00ab8b9c298"
      },
      "outputs": [
        {
          "name": "stdout",
          "output_type": "stream",
          "text": [
            "+-----------------+\n",
            "|         playerid|\n",
            "+-----------------+\n",
            "|76561198389473114|\n",
            "|76561198024318505|\n",
            "|76561199643317571|\n",
            "|76561198138419099|\n",
            "|76561198139094658|\n",
            "|76561198012584047|\n",
            "|76561198139850525|\n",
            "|76561197998500968|\n",
            "|76561198366833428|\n",
            "|76561199092807644|\n",
            "|76561198298591193|\n",
            "|76561198045587928|\n",
            "|76561198453328904|\n",
            "|76561198868227222|\n",
            "|76561198204258625|\n",
            "|76561198844100946|\n",
            "|76561198405685043|\n",
            "|76561198189044965|\n",
            "|76561198367651601|\n",
            "|76561197980310845|\n",
            "+-----------------+\n",
            "only showing top 20 rows\n",
            "\n"
          ]
        }
      ],
      "source": [
        "valid_players_df.show()"
      ]
    },
    {
      "cell_type": "code",
      "execution_count": 18,
      "metadata": {
        "id": "B-HVk6yRZ0BQ"
      },
      "outputs": [],
      "source": [
        "# Step 1: remove brackets, spaces, and split into array of strings\n",
        "purchased_games = purchased_games.withColumn(\n",
        "    \"library\",\n",
        "    split(regexp_replace(\"library\", r\"[\\[\\]\\s]\", \"\"), \",\")\n",
        ")"
      ]
    },
    {
      "cell_type": "code",
      "execution_count": 19,
      "metadata": {
        "id": "DdUobry3OG1T"
      },
      "outputs": [],
      "source": [
        "# Explode the array into individual rows\n",
        "user_game = purchased_games.select(col(\"playerid\"), explode(col(\"library\")).alias(\"gameid\"))"
      ]
    },
    {
      "cell_type": "code",
      "execution_count": 20,
      "metadata": {
        "colab": {
          "base_uri": "https://localhost:8080/"
        },
        "id": "RXjJ3ptkOVGU",
        "outputId": "72d5cbd6-879c-4038-b48b-266ae354948f"
      },
      "outputs": [
        {
          "name": "stdout",
          "output_type": "stream",
          "text": [
            "+-----------------+------+\n",
            "|         playerid|gameid|\n",
            "+-----------------+------+\n",
            "|76561198060698936|    60|\n",
            "|76561198060698936|  1670|\n",
            "|76561198060698936|  3830|\n",
            "|76561198060698936|  1600|\n",
            "|76561198060698936|  2900|\n",
            "|76561198060698936|  2910|\n",
            "|76561198060698936|  2920|\n",
            "|76561198060698936|  4800|\n",
            "|76561198060698936|  4000|\n",
            "|76561198060698936|  6200|\n",
            "|76561198060698936|  6210|\n",
            "|76561198060698936|  6300|\n",
            "|76561198060698936|  6900|\n",
            "|76561198060698936|  6850|\n",
            "|76561198060698936|  6860|\n",
            "|76561198060698936|  6870|\n",
            "|76561198060698936|  1610|\n",
            "|76561198060698936|  1690|\n",
            "|76561198060698936|  6980|\n",
            "|76561198060698936|  7010|\n",
            "+-----------------+------+\n",
            "only showing top 20 rows\n",
            "\n"
          ]
        }
      ],
      "source": [
        "user_game.show()"
      ]
    },
    {
      "cell_type": "code",
      "execution_count": 21,
      "metadata": {
        "id": "-APIpg4uXW2o"
      },
      "outputs": [],
      "source": [
        "# Step 2: Keep only purchases by valid players\n",
        "filtered_purchases_df = user_game.join(valid_players_df, on=\"playerid\", how=\"inner\")"
      ]
    },
    {
      "cell_type": "code",
      "execution_count": 22,
      "metadata": {
        "colab": {
          "base_uri": "https://localhost:8080/"
        },
        "id": "sODBfrNpXdn1",
        "outputId": "e13d4b94-0b50-4407-c245-54b91b17f9d0"
      },
      "outputs": [
        {
          "name": "stdout",
          "output_type": "stream",
          "text": [
            "+-----------------+-------+\n",
            "|         playerid| gameid|\n",
            "+-----------------+-------+\n",
            "|76561198389473114| 251570|\n",
            "|76561198389473114|2923300|\n",
            "|76561198389473114| 377160|\n",
            "|76561198389473114| 252490|\n",
            "|76561198389473114| 700580|\n",
            "|76561198389473114| 225540|\n",
            "|76561198389473114| 252950|\n",
            "|76561198389473114| 427730|\n",
            "|76561198389473114| 107410|\n",
            "|76561198389473114| 431960|\n",
            "|76561198389473114| 391220|\n",
            "|76561198389473114| 265930|\n",
            "|76561198389473114| 433340|\n",
            "|76561198389473114| 271590|\n",
            "|76561198389473114| 433910|\n",
            "|76561198389473114| 438100|\n",
            "|76561198389473114| 274170|\n",
            "|76561198389473114| 441870|\n",
            "|76561198389473114| 274190|\n",
            "|76561198389473114| 444090|\n",
            "+-----------------+-------+\n",
            "only showing top 20 rows\n",
            "\n"
          ]
        }
      ],
      "source": [
        "filtered_purchases_df.show()"
      ]
    },
    {
      "cell_type": "code",
      "execution_count": 30,
      "metadata": {
        "id": "oYU7d1TXXmZ-"
      },
      "outputs": [],
      "source": [
        "# Step 3: Left join with achievement_counts\n",
        "joined_df = filtered_purchases_df.join(\n",
        "    achievement_counts,\n",
        "    on=[\"playerid\", \"gameid\"],\n",
        "    how=\"left\"\n",
        ")\n",
        "\n",
        "# Step 4: Fill nulls with 0 and add 1 for purchase bonus\n",
        "final_df = joined_df.withColumn(\n",
        "    \"achievement_count\",\n",
        "    coalesce(col(\"achievement_count\"), lit(0)) + lit(1)\n",
        ")"
      ]
    },
    {
      "cell_type": "code",
      "execution_count": 24,
      "metadata": {
        "colab": {
          "base_uri": "https://localhost:8080/"
        },
        "id": "mFiFb_9LQu7r",
        "outputId": "d1db95d8-a9eb-4be8-b37f-e80cf4a0bfc3"
      },
      "outputs": [
        {
          "name": "stdout",
          "output_type": "stream",
          "text": [
            "+-----------------+-------+-----------------+\n",
            "|         playerid| gameid|achievement_count|\n",
            "+-----------------+-------+-----------------+\n",
            "|76561198389473114| 107410|              105|\n",
            "|76561198389473114| 225540|               67|\n",
            "|76561198389473114| 252490|               55|\n",
            "|76561198389473114| 265930|              128|\n",
            "|76561198389473114| 271590|               78|\n",
            "|76561198389473114| 431960|                6|\n",
            "|76561198389473114| 596350|                1|\n",
            "|76561198888702308|1029550|                5|\n",
            "|76561198888702308| 105600|               70|\n",
            "|76561198888702308| 107410|                8|\n",
            "|76561198888702308|1209040|                1|\n",
            "|76561198888702308|1293830|               55|\n",
            "|76561198888702308|1407200|                1|\n",
            "|76561198888702308| 231430|                1|\n",
            "|76561198888702308| 236390|               27|\n",
            "|76561198888702308| 244210|                4|\n",
            "|76561198888702308|  43110|                1|\n",
            "|76561198888702308|   4500|                1|\n",
            "|76561198888702308| 582660|                1|\n",
            "|76561198389473114| 251570|               18|\n",
            "+-----------------+-------+-----------------+\n",
            "only showing top 20 rows\n",
            "\n"
          ]
        }
      ],
      "source": [
        "final_df.show()\n",
        "\n",
        "# check null value\n",
        "# final_df.filter(final_df.gameid.isNull()).show()"
      ]
    },
    {
      "cell_type": "code",
      "execution_count": 31,
      "metadata": {
        "id": "fkNjGPiBExwB"
      },
      "outputs": [],
      "source": [
        "from pyspark.sql.functions import max\n",
        "\n",
        "# Get max achievement count per game\n",
        "max_achieve_per_game = final_df.groupBy(\"gameid\") \\\n",
        "    .agg(max(\"achievement_count\").alias(\"max_achievement\"))"
      ]
    },
    {
      "cell_type": "code",
      "execution_count": 39,
      "metadata": {
        "colab": {
          "base_uri": "https://localhost:8080/"
        },
        "id": "giAccYqvFLze",
        "outputId": "a937c583-62ad-41b2-aecf-55c72bb4289d"
      },
      "outputs": [
        {
          "name": "stdout",
          "output_type": "stream",
          "text": [
            "+-------+---------------+\n",
            "| gameid|max_achievement|\n",
            "+-------+---------------+\n",
            "| 332790|             16|\n",
            "| 342580|             23|\n",
            "| 530320|             76|\n",
            "| 542400|             11|\n",
            "| 652390|              1|\n",
            "| 708630|              1|\n",
            "| 738760|              1|\n",
            "| 740410|             11|\n",
            "| 825000|             10|\n",
            "| 847600|              1|\n",
            "| 108800|              1|\n",
            "| 274560|             20|\n",
            "|1144200|             24|\n",
            "| 396750|             34|\n",
            "|1303990|              4|\n",
            "|1507190|              1|\n",
            "| 232050|             57|\n",
            "| 247020|             53|\n",
            "| 282680|              1|\n",
            "| 318220|              1|\n",
            "+-------+---------------+\n",
            "only showing top 20 rows\n",
            "\n",
            "+------+---------------+\n",
            "|gameid|max_achievement|\n",
            "+------+---------------+\n",
            "|265930|            128|\n",
            "+------+---------------+\n",
            "\n"
          ]
        }
      ],
      "source": [
        "max_achieve_per_game.show()\n",
        "\n",
        "# show max_achievement for gameid = 265930\n",
        "max_achieve_per_game.filter(max_achieve_per_game.gameid == 265930).show()"
      ]
    },
    {
      "cell_type": "code",
      "execution_count": 33,
      "metadata": {
        "colab": {
          "base_uri": "https://localhost:8080/"
        },
        "id": "Mi0ZPpwlFUq1",
        "outputId": "5a23258e-538d-498c-ac21-aaeb6ccc0a9a"
      },
      "outputs": [
        {
          "name": "stdout",
          "output_type": "stream",
          "text": [
            "+-----------------+-------+--------------------+\n",
            "|         playerid| gameid|   achievement_count|\n",
            "+-----------------+-------+--------------------+\n",
            "|76561198888702308|1029550| 0.23809523809523808|\n",
            "|76561198888702308| 244210|0.005633802816901409|\n",
            "|76561198389473114| 596350|                 1.0|\n",
            "|76561198389473114| 271590|                 1.0|\n",
            "|76561198888702308|1407200|0.017241379310344827|\n",
            "|76561198888702308| 231430|0.002217294900221...|\n",
            "|76561198389473114| 265930|                 1.0|\n",
            "|76561198389473114| 225540|                 1.0|\n",
            "|76561198389473114| 431960|  0.3333333333333333|\n",
            "|76561198888702308|1293830|  0.3089887640449438|\n",
            "|76561198888702308|  43110|                 1.0|\n",
            "|76561198389473114| 107410|  0.8467741935483871|\n",
            "|76561198888702308| 107410| 0.06451612903225806|\n",
            "|76561198888702308|1209040|                 1.0|\n",
            "|76561198888702308| 582660|                 1.0|\n",
            "|76561198888702308| 105600|   0.603448275862069|\n",
            "|76561198888702308|   4500|                 1.0|\n",
            "|76561198888702308| 236390|  0.3103448275862069|\n",
            "|76561198389473114| 252490|  0.5913978494623656|\n",
            "|76561198389473114| 427730|  0.4666666666666667|\n",
            "+-----------------+-------+--------------------+\n",
            "only showing top 20 rows\n",
            "\n"
          ]
        }
      ],
      "source": [
        "# Join back to the original DataFrame\n",
        "joined_df = final_df.join(max_achieve_per_game, on=\"gameid\", how=\"left\")\n",
        "\n",
        "# Step 3: Compute normalized implicit rating\n",
        "final_df = joined_df.withColumn(\n",
        "    \"achievement_count\",\n",
        "    col(\"achievement_count\") / col(\"max_achievement\")\n",
        ")\n",
        "\n",
        "# Optional: Check the result\n",
        "final_df.select(\"playerid\", \"gameid\", \"achievement_count\").show()"
      ]
    },
    {
      "cell_type": "code",
      "execution_count": 35,
      "metadata": {
        "id": "YtlnxgzDYEZe"
      },
      "outputs": [],
      "source": [
        "from pyspark.ml.recommendation import ALS\n",
        "from pyspark.ml.evaluation import RegressionEvaluator\n",
        "from pyspark.ml.feature import StringIndexer"
      ]
    },
    {
      "cell_type": "code",
      "execution_count": 36,
      "metadata": {
        "id": "xpXsD8sJY1Vh"
      },
      "outputs": [],
      "source": [
        "player_indexer = StringIndexer(inputCol=\"playerid\", outputCol=\"player_index\", handleInvalid=\"skip\")\n",
        "game_indexer = StringIndexer(inputCol=\"gameid\", outputCol=\"game_index\", handleInvalid=\"skip\")\n",
        "\n",
        "# keep the mapping table for lookup later\n",
        "player_id_mapping = player_indexer.fit(final_df)\n",
        "game_id_mapping = game_indexer.fit(final_df)\n",
        "\n",
        "# Fit and transform\n",
        "indexed_df = player_id_mapping.transform(final_df)\n",
        "indexed_df = game_id_mapping.transform(indexed_df)"
      ]
    },
    {
      "cell_type": "code",
      "execution_count": 51,
      "metadata": {
        "colab": {
          "base_uri": "https://localhost:8080/"
        },
        "id": "LyWY37JgZSQ-",
        "outputId": "79a7ff6d-786e-4e01-9097-ac59bf0d1b20"
      },
      "outputs": [
        {
          "name": "stdout",
          "output_type": "stream",
          "text": [
            "+-------+-----------------+--------------------+---------------+------------+----------+\n",
            "| gameid|         playerid|   achievement_count|max_achievement|player_index|game_index|\n",
            "+-------+-----------------+--------------------+---------------+------------+----------+\n",
            "| 332790|76561197960272169|              0.0625|             16|        66.0|    2896.0|\n",
            "| 342580|76561197960272169|0.043478260869565216|             23|        66.0|    2621.0|\n",
            "| 530320|76561197960272169|0.013157894736842105|             76|        66.0|    2344.0|\n",
            "| 542400|76561197960272169| 0.09090909090909091|             11|        66.0|    5108.0|\n",
            "| 652390|76561197960272169|                 1.0|              1|        66.0|   11943.0|\n",
            "| 708630|76561197960272169|                 1.0|              1|        66.0|   15496.0|\n",
            "| 738760|76561197960272169|                 1.0|              1|        66.0|   19006.0|\n",
            "| 740410|76561197960272169| 0.09090909090909091|             11|        66.0|    8445.0|\n",
            "| 825000|76561197960272169|                 0.1|             10|        66.0|   10185.0|\n",
            "| 847600|76561197960272169|                 1.0|              1|        66.0|   19858.0|\n",
            "| 108800|76561197960324512|                 1.0|              1|       875.0|     568.0|\n",
            "| 274560|76561197960335869|                 1.0|             20|       264.0|    1167.0|\n",
            "| 108800|76561197960376165|                 1.0|              1|       175.0|     568.0|\n",
            "|1144200|76561197960376165| 0.08333333333333333|             24|       175.0|     298.0|\n",
            "| 396750|76561197960376165| 0.08823529411764706|             34|       175.0|    2679.0|\n",
            "| 396750|76561197960453399|0.029411764705882353|             34|       758.0|    2679.0|\n",
            "| 108800|76561197960488635|                 1.0|              1|        24.0|     568.0|\n",
            "|1303990|76561197960488635|                0.25|              4|        24.0|    4119.0|\n",
            "|1507190|76561197960488635|                 1.0|              1|        24.0|     704.0|\n",
            "| 232050|76561197960488635|0.017543859649122806|             57|        24.0|    1179.0|\n",
            "+-------+-----------------+--------------------+---------------+------------+----------+\n",
            "only showing top 20 rows\n",
            "\n"
          ]
        }
      ],
      "source": [
        "indexed_df.show()"
      ]
    },
    {
      "cell_type": "code",
      "execution_count": 37,
      "metadata": {
        "id": "SFX17Jx3YbNC"
      },
      "outputs": [],
      "source": [
        "# Prepare for ALS\n",
        "als_input = indexed_df.select(\n",
        "    col(\"player_index\").cast(\"int\").alias(\"playerid\"),\n",
        "    col(\"game_index\").cast(\"int\").alias(\"gameid\"),\n",
        "    col(\"achievement_count\").cast(\"float\")\n",
        ")\n",
        "\n",
        "# Split into training and test sets\n",
        "train_data, test_data = als_input.randomSplit([0.8, 0.2], seed=42)"
      ]
    },
    {
      "cell_type": "code",
      "execution_count": 38,
      "metadata": {
        "id": "rlICV7Oyb70S"
      },
      "outputs": [],
      "source": [
        "# Initialize ALS for implicit feedback\n",
        "als = ALS(\n",
        "    userCol=\"playerid\",\n",
        "    itemCol=\"gameid\",\n",
        "    ratingCol=\"achievement_count\",\n",
        "    implicitPrefs=True,  # Crucial for implicit feedback\n",
        "    coldStartStrategy=\"drop\",  # Avoids NaN predictions\n",
        "    rank=10,\n",
        "    maxIter=15,\n",
        "    regParam=0.1\n",
        ")\n",
        "\n",
        "# Train the model\n",
        "model = als.fit(train_data)"
      ]
    },
    {
      "cell_type": "code",
      "execution_count": 40,
      "metadata": {
        "colab": {
          "base_uri": "https://localhost:8080/"
        },
        "id": "-lBMsSjCtyL7",
        "outputId": "95f44d2b-cc4f-437f-f257-b65bd67a074d"
      },
      "outputs": [
        {
          "name": "stdout",
          "output_type": "stream",
          "text": [
            "Test RMSE: 0.5157\n"
          ]
        }
      ],
      "source": [
        "# Predict on test data\n",
        "predictions = model.transform(test_data)\n",
        "\n",
        "# Optional: Evaluate with RMSE (less meaningful for implicit, but good for validation)\n",
        "evaluator = RegressionEvaluator(\n",
        "    metricName=\"rmse\",\n",
        "    labelCol=\"achievement_count\",\n",
        "    predictionCol=\"prediction\"\n",
        ")\n",
        "rmse = evaluator.evaluate(predictions)\n",
        "print(f\"Test RMSE: {rmse:.4f}\")"
      ]
    },
    {
      "cell_type": "code",
      "execution_count": 45,
      "metadata": {
        "id": "oaJtrKZebxzh"
      },
      "outputs": [],
      "source": [
        "user_recs = model.recommendForAllUsers(50)"
      ]
    },
    {
      "cell_type": "code",
      "execution_count": 48,
      "metadata": {
        "id": "MZEea6DvZ_SK"
      },
      "outputs": [],
      "source": [
        "from typing import List\n",
        "\n",
        "def recommend_games_for_player(playerid: str,\n",
        "                                user_recs_df,\n",
        "                                player_id_mapping,\n",
        "                                game_id_mapping,\n",
        "                                player_game_df,\n",
        "                                games_df,\n",
        "                                spark) -> List[str]:\n",
        "\n",
        "    # Map playerid to player_index\n",
        "    if playerid not in player_id_mapping.labels:\n",
        "        print(f\"Playerid {playerid} not in training data.\")\n",
        "        return []\n",
        "\n",
        "    player_index = float(player_id_mapping.labels.index(playerid))\n",
        "\n",
        "    # Filter recommendations for this player_index\n",
        "    recs = user_recs_df.filter(col(\"playerid\") == player_index)\n",
        "\n",
        "    # Explode recommendations and extract game_index\n",
        "    exploded = recs.withColumn(\"rec\", explode(\"recommendations\")) \\\n",
        "                   .select(col(\"rec.gameid\").alias(\"game_index\"))\n",
        "\n",
        "    # Map game_index back to gameid using model labels\n",
        "    game_labels = game_id_mapping.labels\n",
        "    recommended_gameids = exploded.rdd.map(lambda row: game_labels[int(row.game_index)]).collect()\n",
        "\n",
        "    # Get list of already purchased gameids for this player\n",
        "    purchased = player_game_df.filter(col(\"playerid\") == playerid) \\\n",
        "                              .select(\"gameid\").rdd.map(lambda r: str(r.gameid)).collect()\n",
        "\n",
        "    # Filter out purchased games\n",
        "    filtered_recommendations = [gid for gid in recommended_gameids if gid not in purchased]\n",
        "\n",
        "    if not filtered_recommendations:\n",
        "        print(\"No new games to recommend.\")\n",
        "        return\n",
        "\n",
        "    # Convert to DataFrame for join\n",
        "    rec_df = spark.createDataFrame([(gid,) for gid in filtered_recommendations], [\"gameid\"])\n",
        "\n",
        "    # Join with metadata\n",
        "    enriched_df = rec_df.join(games_df, on=\"gameid\", how=\"left\")\n",
        "\n",
        "    # return max 10 result\n",
        "    enriched_df = enriched_df.limit(10)\n",
        "\n",
        "    # remove gameid with null title field\n",
        "    enriched_df = enriched_df.filter(col(\"title\").isNotNull())\n",
        "\n",
        "    return enriched_df"
      ]
    },
    {
      "cell_type": "code",
      "execution_count": 43,
      "metadata": {
        "colab": {
          "base_uri": "https://localhost:8080/"
        },
        "id": "CwRKRd_3dwTR",
        "outputId": "d53323b9-d575-403d-e3cb-7a8216452ab3"
      },
      "outputs": [
        {
          "name": "stdout",
          "output_type": "stream",
          "text": [
            "+------+---------------------------------------+-----------------------------------+-------------------------+--------------------------------+----------------------+------------+\n",
            "|gameid|title                                  |developers                         |publishers               |genres                          |supported_languages   |release_date|\n",
            "+------+---------------------------------------+-----------------------------------+-------------------------+--------------------------------+----------------------+------------+\n",
            "|391070|Stellar 2D                             |['quad games']                     |['Back To Basics Gaming']|['Action', 'Casual', 'Indie']   |['English']           |2015-07-30  |\n",
            "|438030|Dead6hot                               |['Chuck Productions']              |['New Reality Games']    |['Action', 'Casual']            |['English']           |2016-02-01  |\n",
            "|444480|Broken Dreams                          |['Mihai Morosanu']                 |['New Reality Games']    |['Casual', 'Indie']             |['English']           |2016-02-19  |\n",
            "|489220|Unforgiving Trials: The Darkest Crusade|['Amaterasu Software']             |['Amaterasu Software']   |['Adventure', 'Indie', 'RPG']   |['English']           |2016-06-15  |\n",
            "|503820|A Detective's Novel                    |['Amaterasu Software']             |['Amaterasu Software']   |['Adventure', 'Indie']          |['English']           |2016-07-28  |\n",
            "|400240|The Deer                               |['Fabio Ferrara', 'Giulia Airoldi']|['Chubby Pixel']         |['Adventure', 'Indie']          |['English']           |2016-03-28  |\n",
            "|410210|Ampersand                              |['PiGravity']                      |['Back To Basics Gaming']|['Indie', 'Racing']             |['English']           |2015-10-19  |\n",
            "|448780|Sixtieth Kilometer                     |['Talentplace']                    |['KishMish Games']       |['Adventure', 'Casual', 'Indie']|['English', 'Russian']|2016-08-25  |\n",
            "+------+---------------------------------------+-----------------------------------+-------------------------+--------------------------------+----------------------+------------+\n",
            "\n"
          ]
        }
      ],
      "source": [
        "recommended_games = recommend_games_for_player(\n",
        "    playerid=\"76561197963765138\",\n",
        "    user_recs_df=user_recs,\n",
        "    player_id_mapping=player_id_mapping,\n",
        "    game_id_mapping=game_id_mapping,\n",
        "    player_game_df=user_game,\n",
        "    games_df=games,\n",
        "    spark=spark\n",
        ")\n",
        "\n",
        "# show with no truncate\n",
        "recommended_games.show(truncate=False)"
      ]
    },
    {
      "cell_type": "code",
      "execution_count": 50,
      "metadata": {
        "colab": {
          "base_uri": "https://localhost:8080/"
        },
        "id": "Fh-azPc1MXVv",
        "outputId": "85febbff-3a47-436b-ce30-421084813c4c"
      },
      "outputs": [
        {
          "name": "stdout",
          "output_type": "stream",
          "text": [
            "+------+---------------------------+-----------------------------------------------------------------+-----------------------+------------------------------------+------------------------------------------------------------------------------------------------------------------------------------------------------------------------------------------------------------------------------------------------------------------------------------------------------------------------------------------------------------------------------+------------+\n",
            "|gameid|title                      |developers                                                       |publishers             |genres                              |supported_languages                                                                                                                                                                                                                                                                                                                                                           |release_date|\n",
            "+------+---------------------------+-----------------------------------------------------------------+-----------------------+------------------------------------+------------------------------------------------------------------------------------------------------------------------------------------------------------------------------------------------------------------------------------------------------------------------------------------------------------------------------------------------------------------------------+------------+\n",
            "|280   |Half-Life: Source          |['Valve']                                                        |['Valve']              |['Action']                          |['English', 'French', 'German', 'Italian', 'Japanese', 'Spanish - Spain', 'Russian', 'Simplified Chinese', 'Traditional Chinese', 'Thai', 'Korean']                                                                                                                                                                                                                           |2004-06-01  |\n",
            "|55230 |Saints Row: The Third      |['Volition']                                                     |['Deep Silver']        |['Action']                          |['Czech', 'Dutch', 'English', 'French', 'German', 'Italian', 'Polish', 'Russian', 'Spanish - Spain']                                                                                                                                                                                                                                                                          |2011-11-14  |\n",
            "|220240|Far Cry 3                  |['Ubisoft Montreal, Massive Entertainment, and Ubisoft Shanghai']|['Ubisoft']            |['Action', 'Adventure']             |['English', 'German', 'French', 'Italian', 'Spanish - Spain', 'Portuguese - Portugal', 'Polish', 'Danish', 'Dutch', 'Norwegian', 'Swedish', 'Czech', 'Russian', 'Japanese', 'Korean', 'Simplified Chinese', 'Traditional Chinese']                                                                                                                                            |2012-12-04  |\n",
            "|400   |Portal                     |['Valve']                                                        |['Valve']              |['Action']                          |['English', 'French', 'German', 'Russian', 'Danish', 'Dutch', 'Finnish', 'Italian', 'Japanese', 'Norwegian', 'Polish', 'Portuguese - Portugal', 'Simplified Chinese', 'Spanish - Spain', 'Swedish', 'Traditional Chinese', 'Korean', 'Bulgarian', 'Czech', 'Greek', 'Hungarian', 'Portuguese - Brazil', 'Romanian', 'Spanish - Latin America', 'Thai', 'Turkish', 'Ukrainian']|2007-10-10  |\n",
            "|7670  |BioShock™                  |['2K Boston', '2K Australia']                                    |['2K']                 |['Action', 'RPG']                   |['English', 'French', 'German', 'Italian', 'Spanish - Spain']                                                                                                                                                                                                                                                                                                                 |2007-08-21  |\n",
            "|17410 |Mirror's Edge™             |['DICE']                                                         |['Electronic Arts']    |['Action', 'Adventure']             |['English', 'French', 'German', 'Italian', 'Spanish - Spain', 'Czech', 'Russian', 'Polish', 'Hungarian', 'Portuguese - Portugal']                                                                                                                                                                                                                                             |2009-01-14  |\n",
            "|33930 |Arma 2: Operation Arrowhead|['Bohemia Interactive']                                          |['Bohemia Interactive']|['Action', 'Simulation', 'Strategy']|['English', 'Czech', 'French', 'Italian', 'Spanish - Spain', 'German', 'Polish', 'Russian']                                                                                                                                                                                                                                                                                   |2010-06-29  |\n",
            "|108800|Crysis 2 - Maximum Edition |['Crytek Studios']                                               |['Electronic Arts']    |['Action']                          |['Czech', 'English', 'French', 'German', 'Italian', 'Japanese', 'Polish', 'Russian', 'Spanish - Spain', 'Traditional Chinese', 'Turkish']                                                                                                                                                                                                                                     |2011-03-22  |\n",
            "+------+---------------------------+-----------------------------------------------------------------+-----------------------+------------------------------------+------------------------------------------------------------------------------------------------------------------------------------------------------------------------------------------------------------------------------------------------------------------------------------------------------------------------------------------------------------------------------+------------+\n",
            "\n"
          ]
        }
      ],
      "source": [
        "recommended_games = recommend_games_for_player(\n",
        "    playerid=\"76561197969960651\",\n",
        "    user_recs_df=user_recs,\n",
        "    player_id_mapping=player_id_mapping,\n",
        "    game_id_mapping=game_id_mapping,\n",
        "    player_game_df=user_game,\n",
        "    games_df=games,\n",
        "    spark=spark\n",
        ")\n",
        "\n",
        "# show with no truncate\n",
        "recommended_games.show(truncate=False)"
      ]
    }
  ],
  "metadata": {
    "colab": {
      "provenance": []
    },
    "kernelspec": {
      "display_name": "Python 3",
      "name": "python3"
    },
    "language_info": {
      "name": "python"
    }
  },
  "nbformat": 4,
  "nbformat_minor": 0
}
