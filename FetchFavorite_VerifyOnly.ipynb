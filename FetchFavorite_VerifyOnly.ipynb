{
 "cells": [
  {
   "cell_type": "markdown",
   "id": "85df37f4",
   "metadata": {},
   "source": [
    "# Get owned game, sorted by playtime descending"
   ]
  },
  {
   "cell_type": "code",
   "execution_count": 1,
   "id": "2c8a961f",
   "metadata": {},
   "outputs": [
    {
     "name": "stdout",
     "output_type": "stream",
     "text": [
      "Requirement already satisfied: dotenv in /opt/conda/lib/python3.11/site-packages (0.9.9)\n",
      "Requirement already satisfied: python-dotenv in /opt/conda/lib/python3.11/site-packages (from dotenv) (1.1.0)\n",
      "Note: you may need to restart the kernel to use updated packages.\n"
     ]
    }
   ],
   "source": [
    "%pip install dotenv"
   ]
  },
  {
   "cell_type": "code",
   "execution_count": 33,
   "id": "740d0fdb",
   "metadata": {
    "tags": [
     "parameters"
    ]
   },
   "outputs": [],
   "source": [
    "playerid = \"76561198287996067\""
   ]
  },
  {
   "cell_type": "code",
   "execution_count": 34,
   "id": "984275d3",
   "metadata": {},
   "outputs": [],
   "source": [
    "from dotenv import load_dotenv\n",
    "import os\n",
    "import requests"
   ]
  },
  {
   "cell_type": "code",
   "execution_count": 35,
   "id": "7fc7c8d3",
   "metadata": {},
   "outputs": [],
   "source": [
    "# Load environment variables from .env file\n",
    "load_dotenv()\n",
    "\n",
    "# Get the API_KEY from the environment variables\n",
    "API_KEY = os.getenv('API_KEY')"
   ]
  },
  {
   "cell_type": "code",
   "execution_count": 36,
   "id": "3fa59d65",
   "metadata": {},
   "outputs": [],
   "source": [
    "url = \"https://api.steampowered.com/IPlayerService/GetOwnedGames/v0001/?key=\" + API_KEY + \"&steamid=\" + playerid + \"&format=json\"\n",
    "\n",
    "response = requests.get(url)\n",
    "\n",
    "if response.status_code != 200:\n",
    "    print(f\"Error: {response.status_code}\")\n",
    "    exit()\n",
    "\n",
    "data = response.json()\n",
    "games = data['response']['games']"
   ]
  },
  {
   "cell_type": "code",
   "execution_count": 37,
   "id": "bd019309",
   "metadata": {},
   "outputs": [
    {
     "name": "stdout",
     "output_type": "stream",
     "text": [
      "https://api.steampowered.com/ICommunityService/GetApps/v1/?access_token=eyAidHlwIjogIkpXVCIsICJhbGciOiAiRWREU0EiIH0.eyAiaXNzIjogInI6MDAxMV8yNUQ2RUJGQ19BMkYzNiIsICJzdWIiOiAiNzY1NjExOTgyODc5OTYwNjciLCAiYXVkIjogWyAid2ViOnN0b3JlIiBdLCAiZXhwIjogMTc0Mzg3NTIzMiwgIm5iZiI6IDE3MzUxNDcxNTMsICJpYXQiOiAxNzQzNzg3MTUzLCAianRpIjogIjAwMEZfMjYxNjBCQjhfMTEwMzAiLCAib2F0IjogMTczOTgxMDA1MSwgInJ0X2V4cCI6IDE3NTgyNzA2MzksICJwZXIiOiAwLCAiaXBfc3ViamVjdCI6ICIxMTMuMTg1Ljk0LjIzNyIsICJpcF9jb25maXJtZXIiOiAiMTEzLjE4NS45NC4yMzciIH0.oOtiFv9Y-cosI4x26stBU-GejN6e6gLAZfR8ZpFyUjaBNrP7on8YWm0Ogg4Udyhy1xJ-S_i6qCmY0renqMhSAg&appids%5B0%5D=105600&appids%5B1%5D=322330&appids%5B2%5D=301520&appids%5B3%5D=365670&appids%5B4%5D=550&appids%5B5%5D=730&appids%5B6%5D=782330&appids%5B7%5D=881100&appids%5B8%5D=1281930&appids%5B9%5D=379720\n"
     ]
    },
    {
     "data": {
      "text/plain": [
       "['Terraria',\n",
       " \"Don't Starve Together\",\n",
       " 'Robocraft',\n",
       " 'Blender',\n",
       " 'Left 4 Dead 2',\n",
       " 'Counter-Strike 2',\n",
       " 'DOOM Eternal',\n",
       " 'Noita',\n",
       " 'tModLoader',\n",
       " 'DOOM']"
      ]
     },
     "execution_count": 37,
     "metadata": {},
     "output_type": "execute_result"
    }
   ],
   "source": [
    "import urllib.parse\n",
    "\n",
    "games = sorted(games, key=lambda x: x['playtime_forever'], reverse=True)\n",
    "games = list(games)[:10]\n",
    "\n",
    "ACCESS_TOKEN = urllib.parse.quote_plus( os.getenv('ACCESS_TOKEN'))\n",
    "\n",
    "def get_game_name(appid):\n",
    "    url = \"https://api.steampowered.com/ICommunityService/GetApps/v1/?access_token=\" + str(ACCESS_TOKEN)\n",
    "\n",
    "    for index, app in enumerate(appid):\n",
    "        url += \"&appids%5B\" + str(index) + \"%5D=\" + str(app)\n",
    "\n",
    "    print(url)\n",
    "    \n",
    "    response = requests.get(url)\n",
    "    \n",
    "    if response.status_code != 200:\n",
    "        print(f\"Error: {response.status_code}\")\n",
    "        return []\n",
    "    data = response.json()    \n",
    "\n",
    "    if (len(data['response']) == 0):\n",
    "        return []\n",
    "    return [app['name'] for app in data['response']['apps']]\n",
    "\n",
    "names = get_game_name([game['appid'] for game in games])\n",
    "names"
   ]
  },
  {
   "cell_type": "code",
   "execution_count": 38,
   "id": "cb47df20",
   "metadata": {},
   "outputs": [
    {
     "name": "stdout",
     "output_type": "stream",
     "text": [
      "Top 10 games played by the user:\n",
      "Terraria - 1192 hours\n",
      "Don't Starve Together - 197 hours\n",
      "Robocraft - 192 hours\n",
      "Blender - 138 hours\n",
      "Left 4 Dead 2 - 134 hours\n",
      "Counter-Strike 2 - 118 hours\n",
      "DOOM Eternal - 112 hours\n",
      "Noita - 96 hours\n",
      "tModLoader - 88 hours\n",
      "DOOM - 77 hours\n"
     ]
    }
   ],
   "source": [
    "if len(names) > 0:\n",
    "    print(\"Top 10 games played by the user:\")\n",
    "    for index, game in enumerate(games):\n",
    "        print(f\"{names[index]} - {int(game['playtime_forever']/60)} hours\")"
   ]
  },
  {
   "cell_type": "code",
   "execution_count": null,
   "id": "9762b904-5512-42b7-9992-b5aa346a5673",
   "metadata": {},
   "outputs": [],
   "source": []
  }
 ],
 "metadata": {
  "kernelspec": {
   "display_name": "Python 3 (ipykernel)",
   "language": "python",
   "name": "python3"
  },
  "language_info": {
   "codemirror_mode": {
    "name": "ipython",
    "version": 3
   },
   "file_extension": ".py",
   "mimetype": "text/x-python",
   "name": "python",
   "nbconvert_exporter": "python",
   "pygments_lexer": "ipython3",
   "version": "3.11.6"
  }
 },
 "nbformat": 4,
 "nbformat_minor": 5
}
