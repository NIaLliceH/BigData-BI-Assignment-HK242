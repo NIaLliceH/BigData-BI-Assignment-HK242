{
 "cells": [
  {
   "cell_type": "markdown",
   "id": "85df37f4",
   "metadata": {},
   "source": [
    "# Get owned game, sorted by playtime descending"
   ]
  },
  {
   "cell_type": "code",
   "execution_count": 2,
   "id": "984275d3",
   "metadata": {},
   "outputs": [],
   "source": [
    "from dotenv import load_dotenv\n",
    "import os\n",
    "import requests"
   ]
  },
  {
   "cell_type": "code",
   "execution_count": 2,
   "id": "740d0fdb",
   "metadata": {
    "tags": [
     "parameters"
    ]
   },
   "outputs": [],
   "source": [
    "playerid = \"76561198287996067\""
   ]
  },
  {
   "cell_type": "code",
   "execution_count": 3,
   "id": "7fc7c8d3",
   "metadata": {},
   "outputs": [],
   "source": [
    "# Load environment variables from .env file\n",
    "load_dotenv()\n",
    "\n",
    "# Get the API_KEY from the environment variables\n",
    "API_KEY = os.getenv('API_KEY')"
   ]
  },
  {
   "cell_type": "code",
   "execution_count": 4,
   "id": "3fa59d65",
   "metadata": {},
   "outputs": [],
   "source": [
    "url = \"https://api.steampowered.com/IPlayerService/GetOwnedGames/v0001/?key=\" + API_KEY + \"&steamid=\" + playerid + \"&format=json\"\n",
    "\n",
    "response = requests.get(url)\n",
    "\n",
    "if response.status_code != 200:\n",
    "    print(f\"Error: {response.status_code}\")\n",
    "    exit()\n",
    "\n",
    "data = response.json()\n",
    "games = data['response']['games']"
   ]
  },
  {
   "cell_type": "code",
   "execution_count": 7,
   "id": "e1f9c3c1",
   "metadata": {},
   "outputs": [
    {
     "data": {
      "text/plain": [
       "{'appid': 302190,\n",
       " 'playtime_forever': 0,\n",
       " 'playtime_windows_forever': 0,\n",
       " 'playtime_mac_forever': 0,\n",
       " 'playtime_linux_forever': 0,\n",
       " 'playtime_deck_forever': 0,\n",
       " 'rtime_last_played': 0,\n",
       " 'playtime_disconnected': 0}"
      ]
     },
     "execution_count": 7,
     "metadata": {},
     "output_type": "execute_result"
    }
   ],
   "source": [
    "games[-1]"
   ]
  },
  {
   "cell_type": "code",
   "execution_count": null,
   "id": "bd019309",
   "metadata": {},
   "outputs": [],
   "source": [
    "import urllib.parse\n",
    "\n",
    "games = sorted(games, key=lambda x: x['playtime_forever'], reverse=True)\n",
    "games = list(games)[:10]\n",
    "\n",
    "ACCESS_TOKEN = urllib.parse.quote_plus( os.getenv('ACCESS_TOKEN'))\n",
    "\n",
    "def get_game_name(appid):\n",
    "    url = \"https://api.steampowered.com/ICommunityService/GetApps/v1/?access_token=\" + str(ACCESS_TOKEN)\n",
    "\n",
    "    for index, app in enumerate(appid):\n",
    "        url += \"&appids%5B\" + str(index) + \"%5D=\" + str(app)\n",
    "\n",
    "    print(url)\n",
    "    \n",
    "    response = requests.get(url)\n",
    "    \n",
    "    if response.status_code != 200:\n",
    "        print(f\"Error: {response.status_code}\")\n",
    "        return []\n",
    "    data = response.json()    \n",
    "\n",
    "    if (len(data['response']) == 0):\n",
    "        return []\n",
    "    return [app['name'] for app in data['response']['apps']]\n",
    "\n",
    "# names = get_game_name([game['appid'] for game in games])\n",
    "# names"
   ]
  },
  {
   "cell_type": "code",
   "execution_count": null,
   "id": "cb47df20",
   "metadata": {},
   "outputs": [
    {
     "name": "stdout",
     "output_type": "stream",
     "text": [
      "Top 10 games played by the user:\n",
      "Terraria - 1192 hours\n",
      "Don't Starve Together - 197 hours\n",
      "Robocraft - 192 hours\n",
      "Blender - 138 hours\n",
      "Left 4 Dead 2 - 134 hours\n",
      "Counter-Strike 2 - 118 hours\n",
      "DOOM Eternal - 112 hours\n",
      "Noita - 96 hours\n",
      "tModLoader - 88 hours\n",
      "DOOM - 77 hours\n"
     ]
    }
   ],
   "source": [
    "# if len(names) > 0:\n",
    "#     print(\"Top 10 games played by the user:\")\n",
    "#     for index, game in enumerate(games):\n",
    "#         print(f\"{names[index]} - {int(game['playtime_forever']/60)} hours\")"
   ]
  },
  {
   "cell_type": "markdown",
   "id": "30e91045",
   "metadata": {},
   "source": [
    "# Prepare demo data"
   ]
  },
  {
   "cell_type": "code",
   "execution_count": 9,
   "id": "9762b904-5512-42b7-9992-b5aa346a5673",
   "metadata": {},
   "outputs": [
    {
     "name": "stdout",
     "output_type": "stream",
     "text": [
      "Top 10 games played by the user:\n",
      "1. 4000 - 8722 hours\n",
      "2. 72200 - 8674 hours\n",
      "3. 252490 - 3971 hours\n",
      "4. 1250 - 1077 hours\n",
      "5. 251570 - 960 hours\n",
      "6. 232090 - 773 hours\n",
      "7. 218620 - 699 hours\n",
      "8. 42690 - 568 hours\n",
      "9. 675560 - 500 hours\n",
      "10. 475150 - 500 hours\n",
      "25100\n",
      "25090\n",
      "Top 10 games played by the user:\n",
      "1. 740250 - 3871 hours\n",
      "2. 1173510 - 2522 hours\n",
      "3. 908520 - 1370 hours\n",
      "4. 365670 - 1199 hours\n",
      "5. 1068820 - 558 hours\n",
      "6. 99900 - 395 hours\n",
      "7. 362890 - 286 hours\n",
      "8. 620980 - 212 hours\n",
      "9. 113400 - 155 hours\n",
      "10. 438100 - 151 hours\n",
      "1578\n",
      "1568\n",
      "Top 10 games played by the user:\n",
      "1. 221100 - 1231 hours\n",
      "2. 107410 - 1109 hours\n",
      "3. 730 - 688 hours\n",
      "4. 227300 - 492 hours\n",
      "5. 271590 - 265 hours\n",
      "6. 244210 - 225 hours\n",
      "7. 202990 - 186 hours\n",
      "8. 226700 - 184 hours\n",
      "9. 1938090 - 86 hours\n",
      "10. 431960 - 57 hours\n",
      "489\n",
      "479\n",
      "Top 10 games played by the user:\n",
      "1. 236390 - 819 hours\n",
      "2. 730 - 588 hours\n",
      "3. 700330 - 138 hours\n",
      "4. 271590 - 132 hours\n",
      "5. 4000 - 94 hours\n",
      "6. 304930 - 93 hours\n",
      "7. 1407200 - 83 hours\n",
      "8. 707010 - 68 hours\n",
      "9. 443110 - 25 hours\n",
      "10. 444200 - 22 hours\n",
      "49\n",
      "39\n",
      "Updated purchased games dataset with demo players' data.\n"
     ]
    }
   ],
   "source": [
    "demo_players = [76561198027214426, 76561197967404516, 76561198049101130, 76561199081881137]\n",
    "# demo_players = [76561198389473114]\n",
    "\n",
    "import pandas as pd\n",
    "\n",
    "purchased_games = pd.read_csv('./clean_datasets/purchased_games.csv')\n",
    "purchased_games['library'] = purchased_games['library'].apply(eval)\n",
    "\n",
    "# get the top 10 games played by the demo players\n",
    "for player in demo_players:\n",
    "    url = \"https://api.steampowered.com/IPlayerService/GetOwnedGames/v0001/?key=\" + API_KEY + \"&steamid=\" + str(player) + \"&format=json\"\n",
    "\n",
    "    response = requests.get(url)\n",
    "\n",
    "    if response.status_code != 200:\n",
    "        print(f\"Error: {response.status_code}\")\n",
    "        exit()\n",
    "\n",
    "    data = response.json()\n",
    "    games = data['response']['games']\n",
    "\n",
    "    games = sorted(games, key=lambda x: x['playtime_forever'], reverse=True)\n",
    "    games = list(games)[:10]\n",
    "\n",
    "    if len(games) == 0:\n",
    "        print(\"No games found for this user.\")\n",
    "    else:\n",
    "        print(\"Top 10 games played by the user:\")\n",
    "        for index, game in enumerate(games):\n",
    "            print(f\"{index + 1}. {game['appid']} - {int(game['playtime_forever']/60)} hours\")\n",
    "        \n",
    "        top_10 = [game['appid'] for game in games]\n",
    "        \n",
    "        owned_games = purchased_games.loc[purchased_games['playerid'] == player, 'library'].values[0]\n",
    "        print(len(owned_games))\n",
    "        owned_games_for_demo = [game for game in owned_games if game not in top_10]\n",
    "        print(len(owned_games_for_demo))\n",
    "        purchased_games.loc[purchased_games['playerid'] == player, 'library'] = str(owned_games_for_demo)\n",
    "        \n",
    "purchased_games.to_csv('./clean_datasets/purchased_games_demo.csv', index=False)\n",
    "print(\"Updated purchased games dataset with demo players' data.\")"
   ]
  },
  {
   "cell_type": "code",
   "execution_count": 29,
   "id": "4ebc3337",
   "metadata": {},
   "outputs": [
    {
     "data": {
      "text/plain": [
       "53666    [230410, 223710, 262410, 265630, 218620, 22110...\n",
       "Name: library, dtype: object"
      ]
     },
     "execution_count": 29,
     "metadata": {},
     "output_type": "execute_result"
    }
   ],
   "source": [
    "purchased_games.loc[purchased_games['playerid'] == 76561199081881137, 'library']"
   ]
  },
  {
   "cell_type": "code",
   "execution_count": 8,
   "id": "8cc57935",
   "metadata": {},
   "outputs": [
    {
     "data": {
      "text/plain": [
       "'[251570, 2923300, 377160, 700580, 225540, 427730, 107410, 431960, 391220, 265930, 433340, 433910, 438100, 274170, 441870, 274190, 444090, 596350, 365590, 524440, 280180, 282660, 450670, 284160, 457330, 285900, 290930, 222900]'"
      ]
     },
     "execution_count": 8,
     "metadata": {},
     "output_type": "execute_result"
    }
   ],
   "source": [
    "# check if the game is in the library of this user\n",
    "playerid = 76561198389473114\n",
    "gameid = 730\n",
    "purchased_games.loc[purchased_games['playerid'] == playerid, 'library'].values[0]\n"
   ]
  }
 ],
 "metadata": {
  "kernelspec": {
   "display_name": "env",
   "language": "python",
   "name": "python3"
  },
  "language_info": {
   "codemirror_mode": {
    "name": "ipython",
    "version": 3
   },
   "file_extension": ".py",
   "mimetype": "text/x-python",
   "name": "python",
   "nbconvert_exporter": "python",
   "pygments_lexer": "ipython3",
   "version": "3.12.5"
  }
 },
 "nbformat": 4,
 "nbformat_minor": 5
}
